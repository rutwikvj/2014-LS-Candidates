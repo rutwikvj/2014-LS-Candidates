{
 "cells": [
  {
   "cell_type": "markdown",
   "metadata": {},
   "source": [
    "## Analysing the 2014 LokSabha Election Candidate Details\n",
    "\n",
    "### By: Rutwik V Jangam"
   ]
  },
  {
   "cell_type": "markdown",
   "metadata": {},
   "source": [
    "- Load the libraries that we would be using.\n",
    "- Load the database into data frame candid using read_csv() and view the first 5 rows using head() to let us know if the csv file has been read properly."
   ]
  },
  {
   "cell_type": "code",
   "execution_count": 1,
   "metadata": {},
   "outputs": [
    {
     "data": {
      "text/html": [
       "<div>\n",
       "<style scoped>\n",
       "    .dataframe tbody tr th:only-of-type {\n",
       "        vertical-align: middle;\n",
       "    }\n",
       "\n",
       "    .dataframe tbody tr th {\n",
       "        vertical-align: top;\n",
       "    }\n",
       "\n",
       "    .dataframe thead th {\n",
       "        text-align: right;\n",
       "    }\n",
       "</style>\n",
       "<table border=\"1\" class=\"dataframe\">\n",
       "  <thead>\n",
       "    <tr style=\"text-align: right;\">\n",
       "      <th></th>\n",
       "      <th>ST_CODE</th>\n",
       "      <th>State name</th>\n",
       "      <th>Month</th>\n",
       "      <th>Year</th>\n",
       "      <th>PC Number</th>\n",
       "      <th>PC name</th>\n",
       "      <th>PC Type</th>\n",
       "      <th>Candidate Name</th>\n",
       "      <th>Candidate Sex</th>\n",
       "      <th>Candidate Category</th>\n",
       "      <th>Candidate Age</th>\n",
       "      <th>Party Abbreviation</th>\n",
       "      <th>Total Votes Polled</th>\n",
       "      <th>Position</th>\n",
       "    </tr>\n",
       "  </thead>\n",
       "  <tbody>\n",
       "    <tr>\n",
       "      <th>0</th>\n",
       "      <td>S01</td>\n",
       "      <td>Andhra Pradesh</td>\n",
       "      <td>5</td>\n",
       "      <td>2014</td>\n",
       "      <td>1</td>\n",
       "      <td>Adilabad</td>\n",
       "      <td>ST</td>\n",
       "      <td>GODAM NAGESH</td>\n",
       "      <td>M</td>\n",
       "      <td>ST</td>\n",
       "      <td>49.0</td>\n",
       "      <td>TRS</td>\n",
       "      <td>430847</td>\n",
       "      <td>1</td>\n",
       "    </tr>\n",
       "    <tr>\n",
       "      <th>1</th>\n",
       "      <td>S01</td>\n",
       "      <td>Andhra Pradesh</td>\n",
       "      <td>5</td>\n",
       "      <td>2014</td>\n",
       "      <td>1</td>\n",
       "      <td>Adilabad</td>\n",
       "      <td>ST</td>\n",
       "      <td>NARESH</td>\n",
       "      <td>M</td>\n",
       "      <td>ST</td>\n",
       "      <td>37.0</td>\n",
       "      <td>INC</td>\n",
       "      <td>259557</td>\n",
       "      <td>2</td>\n",
       "    </tr>\n",
       "    <tr>\n",
       "      <th>2</th>\n",
       "      <td>S01</td>\n",
       "      <td>Andhra Pradesh</td>\n",
       "      <td>5</td>\n",
       "      <td>2014</td>\n",
       "      <td>1</td>\n",
       "      <td>Adilabad</td>\n",
       "      <td>ST</td>\n",
       "      <td>RAMESH RATHOD</td>\n",
       "      <td>M</td>\n",
       "      <td>ST</td>\n",
       "      <td>48.0</td>\n",
       "      <td>TDP</td>\n",
       "      <td>184198</td>\n",
       "      <td>3</td>\n",
       "    </tr>\n",
       "    <tr>\n",
       "      <th>3</th>\n",
       "      <td>S01</td>\n",
       "      <td>Andhra Pradesh</td>\n",
       "      <td>5</td>\n",
       "      <td>2014</td>\n",
       "      <td>1</td>\n",
       "      <td>Adilabad</td>\n",
       "      <td>ST</td>\n",
       "      <td>RATHOD SADASHIV</td>\n",
       "      <td>M</td>\n",
       "      <td>ST</td>\n",
       "      <td>55.0</td>\n",
       "      <td>BSP</td>\n",
       "      <td>94420</td>\n",
       "      <td>4</td>\n",
       "    </tr>\n",
       "    <tr>\n",
       "      <th>4</th>\n",
       "      <td>S01</td>\n",
       "      <td>Andhra Pradesh</td>\n",
       "      <td>5</td>\n",
       "      <td>2014</td>\n",
       "      <td>1</td>\n",
       "      <td>Adilabad</td>\n",
       "      <td>ST</td>\n",
       "      <td>NETHAWATH RAMDAS</td>\n",
       "      <td>M</td>\n",
       "      <td>ST</td>\n",
       "      <td>44.0</td>\n",
       "      <td>IND</td>\n",
       "      <td>41032</td>\n",
       "      <td>5</td>\n",
       "    </tr>\n",
       "  </tbody>\n",
       "</table>\n",
       "</div>"
      ],
      "text/plain": [
       "  ST_CODE      State name  Month  Year  PC Number    PC name PC Type  \\\n",
       "0     S01  Andhra Pradesh      5  2014          1  Adilabad       ST   \n",
       "1     S01  Andhra Pradesh      5  2014          1  Adilabad       ST   \n",
       "2     S01  Andhra Pradesh      5  2014          1  Adilabad       ST   \n",
       "3     S01  Andhra Pradesh      5  2014          1  Adilabad       ST   \n",
       "4     S01  Andhra Pradesh      5  2014          1  Adilabad       ST   \n",
       "\n",
       "     Candidate Name Candidate Sex Candidate Category  Candidate Age  \\\n",
       "0      GODAM NAGESH             M                 ST           49.0   \n",
       "1            NARESH             M                 ST           37.0   \n",
       "2     RAMESH RATHOD             M                 ST           48.0   \n",
       "3   RATHOD SADASHIV             M                 ST           55.0   \n",
       "4  NETHAWATH RAMDAS             M                 ST           44.0   \n",
       "\n",
       "  Party Abbreviation  Total Votes Polled  Position  \n",
       "0                TRS              430847         1  \n",
       "1                INC              259557         2  \n",
       "2                TDP              184198         3  \n",
       "3                BSP               94420         4  \n",
       "4                IND               41032         5  "
      ]
     },
     "execution_count": 1,
     "metadata": {},
     "output_type": "execute_result"
    }
   ],
   "source": [
    "import numpy as np\n",
    "import pandas as pd\n",
    "import warnings\n",
    "warnings.filterwarnings(\"ignore\")\n",
    "import matplotlib.pyplot as plt\n",
    "import seaborn as sns\n",
    "candid=pd.read_csv(\"LS2014Candidate.csv\")\n",
    "candid.head()"
   ]
  },
  {
   "cell_type": "markdown",
   "metadata": {},
   "source": [
    "- Let us now check for the info of the data frame that tells us the count of non-null data for each variable and also it's data type"
   ]
  },
  {
   "cell_type": "code",
   "execution_count": 2,
   "metadata": {},
   "outputs": [
    {
     "name": "stdout",
     "output_type": "stream",
     "text": [
      "<class 'pandas.core.frame.DataFrame'>\n",
      "RangeIndex: 8794 entries, 0 to 8793\n",
      "Data columns (total 14 columns):\n",
      " #   Column              Non-Null Count  Dtype  \n",
      "---  ------              --------------  -----  \n",
      " 0   ST_CODE             8794 non-null   object \n",
      " 1   State name          8794 non-null   object \n",
      " 2   Month               8794 non-null   int64  \n",
      " 3   Year                8794 non-null   int64  \n",
      " 4   PC Number           8794 non-null   int64  \n",
      " 5   PC name             8794 non-null   object \n",
      " 6   PC Type             8794 non-null   object \n",
      " 7   Candidate Name      8794 non-null   object \n",
      " 8   Candidate Sex       8252 non-null   object \n",
      " 9   Candidate Category  8252 non-null   object \n",
      " 10  Candidate Age       8252 non-null   float64\n",
      " 11  Party Abbreviation  8794 non-null   object \n",
      " 12  Total Votes Polled  8794 non-null   int64  \n",
      " 13  Position            8794 non-null   int64  \n",
      "dtypes: float64(1), int64(5), object(8)\n",
      "memory usage: 962.0+ KB\n"
     ]
    }
   ],
   "source": [
    "candid.info()"
   ]
  },
  {
   "cell_type": "markdown",
   "metadata": {},
   "source": [
    "- On the initial glance, we can see that there are a few variables which have null values (542) such as \"Candidate Sex\", \"Candidate Category\" and \"Candidate Age\".\n",
    "- We can check for the percentage of missing values to confirm if there are any missing values in the dataframe."
   ]
  },
  {
   "cell_type": "code",
   "execution_count": 3,
   "metadata": {},
   "outputs": [
    {
     "data": {
      "text/plain": [
       "ST_CODE               0.00\n",
       "State name            0.00\n",
       "Month                 0.00\n",
       "Year                  0.00\n",
       "PC Number             0.00\n",
       "PC name               0.00\n",
       "PC Type               0.00\n",
       "Candidate Name        0.00\n",
       "Candidate Sex         6.16\n",
       "Candidate Category    6.16\n",
       "Candidate Age         6.16\n",
       "Party Abbreviation    0.00\n",
       "Total Votes Polled    0.00\n",
       "Position              0.00\n",
       "dtype: float64"
      ]
     },
     "execution_count": 3,
     "metadata": {},
     "output_type": "execute_result"
    }
   ],
   "source": [
    "round(100*(candid.isnull().sum()/len(candid.index)),2)"
   ]
  },
  {
   "cell_type": "markdown",
   "metadata": {},
   "source": [
    "- The same three columns as mentioned earlier have missing values - note that whenever we would use agregate functions over these variables, the missing values would be ignores thus not altering our results.\n",
    "- Let us now replace the space in the column names with an underscore for easier use in our codes."
   ]
  },
  {
   "cell_type": "code",
   "execution_count": 4,
   "metadata": {},
   "outputs": [
    {
     "data": {
      "text/plain": [
       "Index(['st_code', 'state_name', 'month', 'year', 'pc_number', 'pc_name',\n",
       "       'pc_type', 'candidate_name', 'candidate_sex', 'candidate_category',\n",
       "       'candidate_age', 'party_abbreviation', 'total_votes_polled',\n",
       "       'position'],\n",
       "      dtype='object')"
      ]
     },
     "execution_count": 4,
     "metadata": {},
     "output_type": "execute_result"
    }
   ],
   "source": [
    "candid.columns=candid.columns.str.strip().str.lower().str.replace(\" \",\"_\")\n",
    "candid.columns"
   ]
  },
  {
   "cell_type": "markdown",
   "metadata": {},
   "source": [
    "#### We can create a new column called Age Group since we would be analysing the age of the candidates.\n",
    "- The bins are as follows - below 35: Young Aged, 35 to 60: Middle Aged, 60 and above: Old Aged"
   ]
  },
  {
   "cell_type": "code",
   "execution_count": 5,
   "metadata": {},
   "outputs": [
    {
     "data": {
      "text/html": [
       "<div>\n",
       "<style scoped>\n",
       "    .dataframe tbody tr th:only-of-type {\n",
       "        vertical-align: middle;\n",
       "    }\n",
       "\n",
       "    .dataframe tbody tr th {\n",
       "        vertical-align: top;\n",
       "    }\n",
       "\n",
       "    .dataframe thead th {\n",
       "        text-align: right;\n",
       "    }\n",
       "</style>\n",
       "<table border=\"1\" class=\"dataframe\">\n",
       "  <thead>\n",
       "    <tr style=\"text-align: right;\">\n",
       "      <th></th>\n",
       "      <th>st_code</th>\n",
       "      <th>state_name</th>\n",
       "      <th>month</th>\n",
       "      <th>year</th>\n",
       "      <th>pc_number</th>\n",
       "      <th>pc_name</th>\n",
       "      <th>pc_type</th>\n",
       "      <th>candidate_name</th>\n",
       "      <th>candidate_sex</th>\n",
       "      <th>candidate_category</th>\n",
       "      <th>candidate_age</th>\n",
       "      <th>party_abbreviation</th>\n",
       "      <th>total_votes_polled</th>\n",
       "      <th>position</th>\n",
       "    </tr>\n",
       "  </thead>\n",
       "  <tbody>\n",
       "    <tr>\n",
       "      <th>0</th>\n",
       "      <td>S01</td>\n",
       "      <td>Andhra Pradesh</td>\n",
       "      <td>5</td>\n",
       "      <td>2014</td>\n",
       "      <td>1</td>\n",
       "      <td>Adilabad</td>\n",
       "      <td>ST</td>\n",
       "      <td>GODAM NAGESH</td>\n",
       "      <td>M</td>\n",
       "      <td>ST</td>\n",
       "      <td>49.0</td>\n",
       "      <td>TRS</td>\n",
       "      <td>430847</td>\n",
       "      <td>1</td>\n",
       "    </tr>\n",
       "    <tr>\n",
       "      <th>1</th>\n",
       "      <td>S01</td>\n",
       "      <td>Andhra Pradesh</td>\n",
       "      <td>5</td>\n",
       "      <td>2014</td>\n",
       "      <td>1</td>\n",
       "      <td>Adilabad</td>\n",
       "      <td>ST</td>\n",
       "      <td>NARESH</td>\n",
       "      <td>M</td>\n",
       "      <td>ST</td>\n",
       "      <td>37.0</td>\n",
       "      <td>INC</td>\n",
       "      <td>259557</td>\n",
       "      <td>2</td>\n",
       "    </tr>\n",
       "    <tr>\n",
       "      <th>2</th>\n",
       "      <td>S01</td>\n",
       "      <td>Andhra Pradesh</td>\n",
       "      <td>5</td>\n",
       "      <td>2014</td>\n",
       "      <td>1</td>\n",
       "      <td>Adilabad</td>\n",
       "      <td>ST</td>\n",
       "      <td>RAMESH RATHOD</td>\n",
       "      <td>M</td>\n",
       "      <td>ST</td>\n",
       "      <td>48.0</td>\n",
       "      <td>TDP</td>\n",
       "      <td>184198</td>\n",
       "      <td>3</td>\n",
       "    </tr>\n",
       "    <tr>\n",
       "      <th>3</th>\n",
       "      <td>S01</td>\n",
       "      <td>Andhra Pradesh</td>\n",
       "      <td>5</td>\n",
       "      <td>2014</td>\n",
       "      <td>1</td>\n",
       "      <td>Adilabad</td>\n",
       "      <td>ST</td>\n",
       "      <td>RATHOD SADASHIV</td>\n",
       "      <td>M</td>\n",
       "      <td>ST</td>\n",
       "      <td>55.0</td>\n",
       "      <td>BSP</td>\n",
       "      <td>94420</td>\n",
       "      <td>4</td>\n",
       "    </tr>\n",
       "    <tr>\n",
       "      <th>4</th>\n",
       "      <td>S01</td>\n",
       "      <td>Andhra Pradesh</td>\n",
       "      <td>5</td>\n",
       "      <td>2014</td>\n",
       "      <td>1</td>\n",
       "      <td>Adilabad</td>\n",
       "      <td>ST</td>\n",
       "      <td>NETHAWATH RAMDAS</td>\n",
       "      <td>M</td>\n",
       "      <td>ST</td>\n",
       "      <td>44.0</td>\n",
       "      <td>IND</td>\n",
       "      <td>41032</td>\n",
       "      <td>5</td>\n",
       "    </tr>\n",
       "  </tbody>\n",
       "</table>\n",
       "</div>"
      ],
      "text/plain": [
       "  st_code      state_name  month  year  pc_number    pc_name pc_type  \\\n",
       "0     S01  Andhra Pradesh      5  2014          1  Adilabad       ST   \n",
       "1     S01  Andhra Pradesh      5  2014          1  Adilabad       ST   \n",
       "2     S01  Andhra Pradesh      5  2014          1  Adilabad       ST   \n",
       "3     S01  Andhra Pradesh      5  2014          1  Adilabad       ST   \n",
       "4     S01  Andhra Pradesh      5  2014          1  Adilabad       ST   \n",
       "\n",
       "     candidate_name candidate_sex candidate_category  candidate_age  \\\n",
       "0      GODAM NAGESH             M                 ST           49.0   \n",
       "1            NARESH             M                 ST           37.0   \n",
       "2     RAMESH RATHOD             M                 ST           48.0   \n",
       "3   RATHOD SADASHIV             M                 ST           55.0   \n",
       "4  NETHAWATH RAMDAS             M                 ST           44.0   \n",
       "\n",
       "  party_abbreviation  total_votes_polled  position  \n",
       "0                TRS              430847         1  \n",
       "1                INC              259557         2  \n",
       "2                TDP              184198         3  \n",
       "3                BSP               94420         4  \n",
       "4                IND               41032         5  "
      ]
     },
     "execution_count": 5,
     "metadata": {},
     "output_type": "execute_result"
    }
   ],
   "source": [
    "candid.head()"
   ]
  },
  {
   "cell_type": "code",
   "execution_count": 6,
   "metadata": {},
   "outputs": [
    {
     "data": {
      "text/html": [
       "<div>\n",
       "<style scoped>\n",
       "    .dataframe tbody tr th:only-of-type {\n",
       "        vertical-align: middle;\n",
       "    }\n",
       "\n",
       "    .dataframe tbody tr th {\n",
       "        vertical-align: top;\n",
       "    }\n",
       "\n",
       "    .dataframe thead th {\n",
       "        text-align: right;\n",
       "    }\n",
       "</style>\n",
       "<table border=\"1\" class=\"dataframe\">\n",
       "  <thead>\n",
       "    <tr style=\"text-align: right;\">\n",
       "      <th></th>\n",
       "      <th>candidate_age</th>\n",
       "      <th>age_Group</th>\n",
       "    </tr>\n",
       "  </thead>\n",
       "  <tbody>\n",
       "    <tr>\n",
       "      <th>0</th>\n",
       "      <td>49.0</td>\n",
       "      <td>Middle-Aged</td>\n",
       "    </tr>\n",
       "    <tr>\n",
       "      <th>1</th>\n",
       "      <td>37.0</td>\n",
       "      <td>Middle-Aged</td>\n",
       "    </tr>\n",
       "    <tr>\n",
       "      <th>2</th>\n",
       "      <td>48.0</td>\n",
       "      <td>Middle-Aged</td>\n",
       "    </tr>\n",
       "    <tr>\n",
       "      <th>3</th>\n",
       "      <td>55.0</td>\n",
       "      <td>Middle-Aged</td>\n",
       "    </tr>\n",
       "    <tr>\n",
       "      <th>4</th>\n",
       "      <td>44.0</td>\n",
       "      <td>Middle-Aged</td>\n",
       "    </tr>\n",
       "    <tr>\n",
       "      <th>...</th>\n",
       "      <td>...</td>\n",
       "      <td>...</td>\n",
       "    </tr>\n",
       "    <tr>\n",
       "      <th>8789</th>\n",
       "      <td>60.0</td>\n",
       "      <td>Middle-Aged</td>\n",
       "    </tr>\n",
       "    <tr>\n",
       "      <th>8790</th>\n",
       "      <td>59.0</td>\n",
       "      <td>Middle-Aged</td>\n",
       "    </tr>\n",
       "    <tr>\n",
       "      <th>8791</th>\n",
       "      <td>32.0</td>\n",
       "      <td>Young</td>\n",
       "    </tr>\n",
       "    <tr>\n",
       "      <th>8792</th>\n",
       "      <td>37.0</td>\n",
       "      <td>Middle-Aged</td>\n",
       "    </tr>\n",
       "    <tr>\n",
       "      <th>8793</th>\n",
       "      <td>50.0</td>\n",
       "      <td>Middle-Aged</td>\n",
       "    </tr>\n",
       "  </tbody>\n",
       "</table>\n",
       "<p>8794 rows × 2 columns</p>\n",
       "</div>"
      ],
      "text/plain": [
       "      candidate_age    age_Group\n",
       "0              49.0  Middle-Aged\n",
       "1              37.0  Middle-Aged\n",
       "2              48.0  Middle-Aged\n",
       "3              55.0  Middle-Aged\n",
       "4              44.0  Middle-Aged\n",
       "...             ...          ...\n",
       "8789           60.0  Middle-Aged\n",
       "8790           59.0  Middle-Aged\n",
       "8791           32.0        Young\n",
       "8792           37.0  Middle-Aged\n",
       "8793           50.0  Middle-Aged\n",
       "\n",
       "[8794 rows x 2 columns]"
      ]
     },
     "execution_count": 6,
     "metadata": {},
     "output_type": "execute_result"
    }
   ],
   "source": [
    "bins = [0, 35, 60, 100]\n",
    "labels = ['Young','Middle-Aged','Old-Aged']\n",
    "candid['age_Group'] = pd.cut(candid['candidate_age'], bins=bins, labels=labels)\n",
    "candid[['candidate_age','age_Group']]"
   ]
  },
  {
   "cell_type": "markdown",
   "metadata": {},
   "source": [
    "#### Let us start with the basic interpretations and then move on to complex ones to gain additional insights.\n",
    "#### 1. Let us now check for the total number of party's contested in the 2014 election"
   ]
  },
  {
   "cell_type": "code",
   "execution_count": 7,
   "metadata": {},
   "outputs": [
    {
     "data": {
      "text/plain": [
       "466"
      ]
     },
     "execution_count": 7,
     "metadata": {},
     "output_type": "execute_result"
    }
   ],
   "source": [
    "len(candid.party_abbreviation.unique())"
   ]
  },
  {
   "cell_type": "markdown",
   "metadata": {},
   "source": [
    "- Though the output is 466 we need to subtract IND and NOTA, so the total number of party's contested in the 2014 election is 464\n",
    "\n",
    "#### 2. Let us now check the number of seats in which each of the parties contested."
   ]
  },
  {
   "cell_type": "code",
   "execution_count": 8,
   "metadata": {},
   "outputs": [
    {
     "data": {
      "text/plain": [
       "IND      3234\n",
       "NOTA      543\n",
       "BSP       503\n",
       "INC       464\n",
       "AAAP      432\n",
       "         ... \n",
       "hkd         1\n",
       "ABMP        1\n",
       "mmsp        1\n",
       "BHNKP       1\n",
       "IBSP        1\n",
       "Name: party_abbreviation, Length: 466, dtype: int64"
      ]
     },
     "execution_count": 8,
     "metadata": {},
     "output_type": "execute_result"
    }
   ],
   "source": [
    "candid.party_abbreviation.value_counts()"
   ]
  },
  {
   "cell_type": "markdown",
   "metadata": {},
   "source": [
    "- We know that the total number of constituencies are 543. The highest count is of the cummulative independent candidates that indicates that multiple independent candidates contested from the same constituency. The second highest is that of NOTA that indicates that each of the constituencies had an option of NOTA. The party that contested in the highest number of seats is BSP.\n",
    "\n",
    "#### We can create a seperate data set of the row items that have party as NOTA"
   ]
  },
  {
   "cell_type": "code",
   "execution_count": 9,
   "metadata": {},
   "outputs": [
    {
     "data": {
      "text/html": [
       "<div>\n",
       "<style scoped>\n",
       "    .dataframe tbody tr th:only-of-type {\n",
       "        vertical-align: middle;\n",
       "    }\n",
       "\n",
       "    .dataframe tbody tr th {\n",
       "        vertical-align: top;\n",
       "    }\n",
       "\n",
       "    .dataframe thead th {\n",
       "        text-align: right;\n",
       "    }\n",
       "</style>\n",
       "<table border=\"1\" class=\"dataframe\">\n",
       "  <thead>\n",
       "    <tr style=\"text-align: right;\">\n",
       "      <th></th>\n",
       "      <th>st_code</th>\n",
       "      <th>state_name</th>\n",
       "      <th>month</th>\n",
       "      <th>year</th>\n",
       "      <th>pc_number</th>\n",
       "      <th>pc_name</th>\n",
       "      <th>pc_type</th>\n",
       "      <th>candidate_name</th>\n",
       "      <th>candidate_sex</th>\n",
       "      <th>candidate_category</th>\n",
       "      <th>candidate_age</th>\n",
       "      <th>party_abbreviation</th>\n",
       "      <th>total_votes_polled</th>\n",
       "      <th>position</th>\n",
       "      <th>age_Group</th>\n",
       "    </tr>\n",
       "  </thead>\n",
       "  <tbody>\n",
       "    <tr>\n",
       "      <th>5</th>\n",
       "      <td>S01</td>\n",
       "      <td>Andhra Pradesh</td>\n",
       "      <td>5</td>\n",
       "      <td>2014</td>\n",
       "      <td>1</td>\n",
       "      <td>Adilabad</td>\n",
       "      <td>ST</td>\n",
       "      <td>None of the Above</td>\n",
       "      <td>NaN</td>\n",
       "      <td>NaN</td>\n",
       "      <td>NaN</td>\n",
       "      <td>NOTA</td>\n",
       "      <td>17084</td>\n",
       "      <td>6</td>\n",
       "      <td>NaN</td>\n",
       "    </tr>\n",
       "    <tr>\n",
       "      <th>18</th>\n",
       "      <td>S01</td>\n",
       "      <td>Andhra Pradesh</td>\n",
       "      <td>5</td>\n",
       "      <td>2014</td>\n",
       "      <td>2</td>\n",
       "      <td>Peddapalle</td>\n",
       "      <td>SC</td>\n",
       "      <td>None of the Above</td>\n",
       "      <td>NaN</td>\n",
       "      <td>NaN</td>\n",
       "      <td>NaN</td>\n",
       "      <td>NOTA</td>\n",
       "      <td>5361</td>\n",
       "      <td>10</td>\n",
       "      <td>NaN</td>\n",
       "    </tr>\n",
       "    <tr>\n",
       "      <th>34</th>\n",
       "      <td>S01</td>\n",
       "      <td>Andhra Pradesh</td>\n",
       "      <td>5</td>\n",
       "      <td>2014</td>\n",
       "      <td>3</td>\n",
       "      <td>Karimnagar</td>\n",
       "      <td>GEN</td>\n",
       "      <td>None of the Above</td>\n",
       "      <td>NaN</td>\n",
       "      <td>NaN</td>\n",
       "      <td>NaN</td>\n",
       "      <td>NOTA</td>\n",
       "      <td>5734</td>\n",
       "      <td>8</td>\n",
       "      <td>NaN</td>\n",
       "    </tr>\n",
       "    <tr>\n",
       "      <th>51</th>\n",
       "      <td>S01</td>\n",
       "      <td>Andhra Pradesh</td>\n",
       "      <td>5</td>\n",
       "      <td>2014</td>\n",
       "      <td>4</td>\n",
       "      <td>Nizamabad</td>\n",
       "      <td>GEN</td>\n",
       "      <td>None of the Above</td>\n",
       "      <td>NaN</td>\n",
       "      <td>NaN</td>\n",
       "      <td>NaN</td>\n",
       "      <td>NOTA</td>\n",
       "      <td>7266</td>\n",
       "      <td>7</td>\n",
       "      <td>NaN</td>\n",
       "    </tr>\n",
       "    <tr>\n",
       "      <th>67</th>\n",
       "      <td>S01</td>\n",
       "      <td>Andhra Pradesh</td>\n",
       "      <td>5</td>\n",
       "      <td>2014</td>\n",
       "      <td>5</td>\n",
       "      <td>Zahirabad</td>\n",
       "      <td>GEN</td>\n",
       "      <td>None of the Above</td>\n",
       "      <td>NaN</td>\n",
       "      <td>NaN</td>\n",
       "      <td>NaN</td>\n",
       "      <td>NOTA</td>\n",
       "      <td>11190</td>\n",
       "      <td>6</td>\n",
       "      <td>NaN</td>\n",
       "    </tr>\n",
       "  </tbody>\n",
       "</table>\n",
       "</div>"
      ],
      "text/plain": [
       "   st_code      state_name  month  year  pc_number      pc_name pc_type  \\\n",
       "5      S01  Andhra Pradesh      5  2014          1    Adilabad       ST   \n",
       "18     S01  Andhra Pradesh      5  2014          2  Peddapalle       SC   \n",
       "34     S01  Andhra Pradesh      5  2014          3  Karimnagar      GEN   \n",
       "51     S01  Andhra Pradesh      5  2014          4    Nizamabad     GEN   \n",
       "67     S01  Andhra Pradesh      5  2014          5    Zahirabad     GEN   \n",
       "\n",
       "       candidate_name candidate_sex candidate_category  candidate_age  \\\n",
       "5   None of the Above           NaN                NaN            NaN   \n",
       "18  None of the Above           NaN                NaN            NaN   \n",
       "34  None of the Above           NaN                NaN            NaN   \n",
       "51  None of the Above           NaN                NaN            NaN   \n",
       "67  None of the Above           NaN                NaN            NaN   \n",
       "\n",
       "   party_abbreviation  total_votes_polled  position age_Group  \n",
       "5                NOTA               17084         6       NaN  \n",
       "18               NOTA                5361        10       NaN  \n",
       "34               NOTA                5734         8       NaN  \n",
       "51               NOTA                7266         7       NaN  \n",
       "67               NOTA               11190         6       NaN  "
      ]
     },
     "execution_count": 9,
     "metadata": {},
     "output_type": "execute_result"
    }
   ],
   "source": [
    "candid_nota=candid[candid.party_abbreviation=='NOTA']\n",
    "candid_nota.head()"
   ]
  },
  {
   "cell_type": "markdown",
   "metadata": {},
   "source": [
    "#### The original dataset can be cleared of NOTA row items"
   ]
  },
  {
   "cell_type": "code",
   "execution_count": 10,
   "metadata": {},
   "outputs": [
    {
     "data": {
      "text/plain": [
       "IND      3234\n",
       "BSP       503\n",
       "INC       464\n",
       "AAAP      432\n",
       "BJP       428\n",
       "         ... \n",
       "hkd         1\n",
       "ABMP        1\n",
       "mmsp        1\n",
       "BHNKP       1\n",
       "RPIE        1\n",
       "Name: party_abbreviation, Length: 465, dtype: int64"
      ]
     },
     "execution_count": 10,
     "metadata": {},
     "output_type": "execute_result"
    }
   ],
   "source": [
    "candid=candid[candid.party_abbreviation!='NOTA']\n",
    "candid.party_abbreviation.value_counts()"
   ]
  },
  {
   "cell_type": "markdown",
   "metadata": {},
   "source": [
    "- We can see that the row items for party = NOTA are present in the candid_nota data frame and the candid data fram has no NOTA row items.\n",
    "- Recheck the percentage of missing values since majority of NaNs seem to be eliminated from candid when candid_nota is created."
   ]
  },
  {
   "cell_type": "code",
   "execution_count": 11,
   "metadata": {},
   "outputs": [
    {
     "data": {
      "text/plain": [
       "st_code               0.0\n",
       "state_name            0.0\n",
       "month                 0.0\n",
       "year                  0.0\n",
       "pc_number             0.0\n",
       "pc_name               0.0\n",
       "pc_type               0.0\n",
       "candidate_name        0.0\n",
       "candidate_sex         0.0\n",
       "candidate_category    0.0\n",
       "candidate_age         0.0\n",
       "party_abbreviation    0.0\n",
       "total_votes_polled    0.0\n",
       "position              0.0\n",
       "age_Group             0.0\n",
       "dtype: float64"
      ]
     },
     "execution_count": 11,
     "metadata": {},
     "output_type": "execute_result"
    }
   ],
   "source": [
    "round(100*(candid.isnull().sum()/len(candid.index)),2)"
   ]
  },
  {
   "cell_type": "markdown",
   "metadata": {},
   "source": [
    "- We can see that there are no missing values"
   ]
  },
  {
   "cell_type": "markdown",
   "metadata": {},
   "source": [
    "#### 3. Let us now check for the spread of age groups variable that we had created."
   ]
  },
  {
   "cell_type": "code",
   "execution_count": 12,
   "metadata": {},
   "outputs": [
    {
     "data": {
      "text/plain": [
       "8251"
      ]
     },
     "execution_count": 12,
     "metadata": {},
     "output_type": "execute_result"
    }
   ],
   "source": [
    "candid.age_Group.count()"
   ]
  },
  {
   "cell_type": "code",
   "execution_count": 13,
   "metadata": {},
   "outputs": [
    {
     "data": {
      "text/plain": [
       "Middle-Aged    66.076839\n",
       "Young          18.300812\n",
       "Old-Aged       15.622349\n",
       "Name: age_Group, dtype: float64"
      ]
     },
     "execution_count": 13,
     "metadata": {},
     "output_type": "execute_result"
    },
    {
     "data": {
      "image/png": "[encoded data removed]",
      "text/plain": [
       "<Figure size 432x288 with 1 Axes>"
      ]
     },
     "metadata": {
      "needs_background": "light"
     },
     "output_type": "display_data"
    }
   ],
   "source": [
    "sns.countplot(candid.age_Group)\n",
    "candid.age_Group.value_counts()/candid.age_Group.count()*100"
   ]
  },
  {
   "cell_type": "markdown",
   "metadata": {},
   "source": [
    "- We can see that majority of the candidates i.e. 66% belong to the middle aged group (35-60 years) followed by young candidates at 18% and then old aged candidates aat 15.6%\n",
    "\n",
    "#### We can now create a new column that tells about the count of the number of seats that the party associated with each row-item had contested in."
   ]
  },
  {
   "cell_type": "code",
   "execution_count": 14,
   "metadata": {},
   "outputs": [],
   "source": [
    "candid['party_contested_count']=[candid[candid['party_abbreviation']==x].party_abbreviation.count() for x in candid['party_abbreviation']]"
   ]
  },
  {
   "cell_type": "markdown",
   "metadata": {},
   "source": [
    "#### We can create a new column that tells us about the kind of party the candidate is from: Small sized party(which has contested in a maximum of 50 seats); Medium Sized Party(which has contested in 50 -200 seats); National party(which has contsted in 200 to 550 seats); The only party abbreviation that has more than 550 seat count (3234) is that of the INDEPENDENTS."
   ]
  },
  {
   "cell_type": "code",
   "execution_count": 15,
   "metadata": {},
   "outputs": [
    {
     "data": {
      "text/plain": [
       "0            Small Sized Party\n",
       "1               National Party\n",
       "2            Small Sized Party\n",
       "3               National Party\n",
       "4       Independent Candidates\n",
       "                 ...          \n",
       "8789    Independent Candidates\n",
       "8790        Medium Sized Party\n",
       "8791         Small Sized Party\n",
       "8792        Medium Sized Party\n",
       "8793    Independent Candidates\n",
       "Name: Party_Category, Length: 8251, dtype: category\n",
       "Categories (4, object): ['Small Sized Party' < 'Medium Sized Party' < 'National Party' < 'Independent Candidates']"
      ]
     },
     "execution_count": 15,
     "metadata": {},
     "output_type": "execute_result"
    }
   ],
   "source": [
    "bins = [0, 50, 200, 550,5000]\n",
    "labels = ['Small Sized Party','Medium Sized Party','National Party','Independent Candidates']\n",
    "candid['Party_Category'] = pd.cut(candid['party_contested_count'], bins=bins, labels=labels)\n",
    "candid['Party_Category']"
   ]
  },
  {
   "cell_type": "code",
   "execution_count": 16,
   "metadata": {},
   "outputs": [
    {
     "data": {
      "text/html": [
       "<div>\n",
       "<style scoped>\n",
       "    .dataframe tbody tr th:only-of-type {\n",
       "        vertical-align: middle;\n",
       "    }\n",
       "\n",
       "    .dataframe tbody tr th {\n",
       "        vertical-align: top;\n",
       "    }\n",
       "\n",
       "    .dataframe thead th {\n",
       "        text-align: right;\n",
       "    }\n",
       "</style>\n",
       "<table border=\"1\" class=\"dataframe\">\n",
       "  <thead>\n",
       "    <tr style=\"text-align: right;\">\n",
       "      <th></th>\n",
       "      <th>st_code</th>\n",
       "      <th>state_name</th>\n",
       "      <th>month</th>\n",
       "      <th>year</th>\n",
       "      <th>pc_number</th>\n",
       "      <th>pc_name</th>\n",
       "      <th>pc_type</th>\n",
       "      <th>candidate_name</th>\n",
       "      <th>candidate_sex</th>\n",
       "      <th>candidate_category</th>\n",
       "      <th>candidate_age</th>\n",
       "      <th>party_abbreviation</th>\n",
       "      <th>total_votes_polled</th>\n",
       "      <th>position</th>\n",
       "      <th>age_Group</th>\n",
       "      <th>party_contested_count</th>\n",
       "      <th>Party_Category</th>\n",
       "    </tr>\n",
       "  </thead>\n",
       "  <tbody>\n",
       "    <tr>\n",
       "      <th>0</th>\n",
       "      <td>S01</td>\n",
       "      <td>Andhra Pradesh</td>\n",
       "      <td>5</td>\n",
       "      <td>2014</td>\n",
       "      <td>1</td>\n",
       "      <td>Adilabad</td>\n",
       "      <td>ST</td>\n",
       "      <td>GODAM NAGESH</td>\n",
       "      <td>M</td>\n",
       "      <td>ST</td>\n",
       "      <td>49.0</td>\n",
       "      <td>TRS</td>\n",
       "      <td>430847</td>\n",
       "      <td>1</td>\n",
       "      <td>Middle-Aged</td>\n",
       "      <td>17</td>\n",
       "      <td>Small Sized Party</td>\n",
       "    </tr>\n",
       "    <tr>\n",
       "      <th>1</th>\n",
       "      <td>S01</td>\n",
       "      <td>Andhra Pradesh</td>\n",
       "      <td>5</td>\n",
       "      <td>2014</td>\n",
       "      <td>1</td>\n",
       "      <td>Adilabad</td>\n",
       "      <td>ST</td>\n",
       "      <td>NARESH</td>\n",
       "      <td>M</td>\n",
       "      <td>ST</td>\n",
       "      <td>37.0</td>\n",
       "      <td>INC</td>\n",
       "      <td>259557</td>\n",
       "      <td>2</td>\n",
       "      <td>Middle-Aged</td>\n",
       "      <td>464</td>\n",
       "      <td>National Party</td>\n",
       "    </tr>\n",
       "    <tr>\n",
       "      <th>2</th>\n",
       "      <td>S01</td>\n",
       "      <td>Andhra Pradesh</td>\n",
       "      <td>5</td>\n",
       "      <td>2014</td>\n",
       "      <td>1</td>\n",
       "      <td>Adilabad</td>\n",
       "      <td>ST</td>\n",
       "      <td>RAMESH RATHOD</td>\n",
       "      <td>M</td>\n",
       "      <td>ST</td>\n",
       "      <td>48.0</td>\n",
       "      <td>TDP</td>\n",
       "      <td>184198</td>\n",
       "      <td>3</td>\n",
       "      <td>Middle-Aged</td>\n",
       "      <td>30</td>\n",
       "      <td>Small Sized Party</td>\n",
       "    </tr>\n",
       "    <tr>\n",
       "      <th>3</th>\n",
       "      <td>S01</td>\n",
       "      <td>Andhra Pradesh</td>\n",
       "      <td>5</td>\n",
       "      <td>2014</td>\n",
       "      <td>1</td>\n",
       "      <td>Adilabad</td>\n",
       "      <td>ST</td>\n",
       "      <td>RATHOD SADASHIV</td>\n",
       "      <td>M</td>\n",
       "      <td>ST</td>\n",
       "      <td>55.0</td>\n",
       "      <td>BSP</td>\n",
       "      <td>94420</td>\n",
       "      <td>4</td>\n",
       "      <td>Middle-Aged</td>\n",
       "      <td>503</td>\n",
       "      <td>National Party</td>\n",
       "    </tr>\n",
       "    <tr>\n",
       "      <th>4</th>\n",
       "      <td>S01</td>\n",
       "      <td>Andhra Pradesh</td>\n",
       "      <td>5</td>\n",
       "      <td>2014</td>\n",
       "      <td>1</td>\n",
       "      <td>Adilabad</td>\n",
       "      <td>ST</td>\n",
       "      <td>NETHAWATH RAMDAS</td>\n",
       "      <td>M</td>\n",
       "      <td>ST</td>\n",
       "      <td>44.0</td>\n",
       "      <td>IND</td>\n",
       "      <td>41032</td>\n",
       "      <td>5</td>\n",
       "      <td>Middle-Aged</td>\n",
       "      <td>3234</td>\n",
       "      <td>Independent Candidates</td>\n",
       "    </tr>\n",
       "  </tbody>\n",
       "</table>\n",
       "</div>"
      ],
      "text/plain": [
       "  st_code      state_name  month  year  pc_number    pc_name pc_type  \\\n",
       "0     S01  Andhra Pradesh      5  2014          1  Adilabad       ST   \n",
       "1     S01  Andhra Pradesh      5  2014          1  Adilabad       ST   \n",
       "2     S01  Andhra Pradesh      5  2014          1  Adilabad       ST   \n",
       "3     S01  Andhra Pradesh      5  2014          1  Adilabad       ST   \n",
       "4     S01  Andhra Pradesh      5  2014          1  Adilabad       ST   \n",
       "\n",
       "     candidate_name candidate_sex candidate_category  candidate_age  \\\n",
       "0      GODAM NAGESH             M                 ST           49.0   \n",
       "1            NARESH             M                 ST           37.0   \n",
       "2     RAMESH RATHOD             M                 ST           48.0   \n",
       "3   RATHOD SADASHIV             M                 ST           55.0   \n",
       "4  NETHAWATH RAMDAS             M                 ST           44.0   \n",
       "\n",
       "  party_abbreviation  total_votes_polled  position    age_Group  \\\n",
       "0                TRS              430847         1  Middle-Aged   \n",
       "1                INC              259557         2  Middle-Aged   \n",
       "2                TDP              184198         3  Middle-Aged   \n",
       "3                BSP               94420         4  Middle-Aged   \n",
       "4                IND               41032         5  Middle-Aged   \n",
       "\n",
       "   party_contested_count          Party_Category  \n",
       "0                     17       Small Sized Party  \n",
       "1                    464          National Party  \n",
       "2                     30       Small Sized Party  \n",
       "3                    503          National Party  \n",
       "4                   3234  Independent Candidates  "
      ]
     },
     "execution_count": 16,
     "metadata": {},
     "output_type": "execute_result"
    }
   ],
   "source": [
    "candid.head()"
   ]
  },
  {
   "cell_type": "markdown",
   "metadata": {},
   "source": [
    "#### 4. Let us now check for the spread of party category of the parties that contested in the 2014 elections"
   ]
  },
  {
   "cell_type": "code",
   "execution_count": 17,
   "metadata": {},
   "outputs": [
    {
     "data": {
      "text/plain": [
       "465"
      ]
     },
     "execution_count": 17,
     "metadata": {},
     "output_type": "execute_result"
    }
   ],
   "source": [
    "len(candid.party_abbreviation.unique())"
   ]
  },
  {
   "cell_type": "code",
   "execution_count": 18,
   "metadata": {},
   "outputs": [
    {
     "data": {
      "text/plain": [
       "450"
      ]
     },
     "execution_count": 18,
     "metadata": {},
     "output_type": "execute_result"
    }
   ],
   "source": [
    "#Small Sized Party\n",
    "len(candid[candid['Party_Category']=='Small Sized Party']['party_abbreviation'].unique())"
   ]
  },
  {
   "cell_type": "code",
   "execution_count": 19,
   "metadata": {},
   "outputs": [
    {
     "data": {
      "text/plain": [
       "9"
      ]
     },
     "execution_count": 19,
     "metadata": {},
     "output_type": "execute_result"
    }
   ],
   "source": [
    "#Medium Sized Party\n",
    "len(candid[candid['Party_Category']=='Medium Sized Party']['party_abbreviation'].unique())"
   ]
  },
  {
   "cell_type": "code",
   "execution_count": 20,
   "metadata": {},
   "outputs": [
    {
     "data": {
      "text/plain": [
       "5"
      ]
     },
     "execution_count": 20,
     "metadata": {},
     "output_type": "execute_result"
    }
   ],
   "source": [
    "#Naational Party\n",
    "len(candid[candid['Party_Category']=='National Party']['party_abbreviation'].unique())"
   ]
  },
  {
   "cell_type": "markdown",
   "metadata": {},
   "source": [
    "- We can see that out of the total 465 parties: 450 are small sized parties that had contested in less than 50 seats; 9 are medium sized parties that had contsted in 50 - 200 seats and 9 National Parties that had contested in more than 200 seats\n",
    "\n",
    "##### 5. Let us now check the spread of candidate categories in the National Parties since they have contsted across INDIA"
   ]
  },
  {
   "cell_type": "code",
   "execution_count": 21,
   "metadata": {},
   "outputs": [
    {
     "name": "stdout",
     "output_type": "stream",
     "text": [
      "GEN    64.660194\n",
      "SC     25.873786\n",
      "ST      9.466019\n",
      "Name: candidate_category, dtype: float64\n"
     ]
    },
    {
     "data": {
      "text/plain": [
       "<AxesSubplot:>"
      ]
     },
     "execution_count": 21,
     "metadata": {},
     "output_type": "execute_result"
    },
    {
     "data": {
      "image/png": "[encoded data removed]",
      "text/plain": [
       "<Figure size 432x288 with 1 Axes>"
      ]
     },
     "metadata": {
      "needs_background": "light"
     },
     "output_type": "display_data"
    }
   ],
   "source": [
    "x=candid[candid['Party_Category']=='National Party']['candidate_category'].value_counts()/len(candid[candid['Party_Category']=='National Party'])*100\n",
    "print(x)\n",
    "x.plot(kind='bar')"
   ]
  },
  {
   "cell_type": "markdown",
   "metadata": {},
   "source": [
    "- We can ses that approximately 65% of the candidates who contested in 2014 elections from national parties are of General Category; almost 26% of these national party candidates are of SC category and the remaining 9% are of the ST category.\n",
    "\n",
    "#### 6. Is there any relation between the age group within which the candidate falls and the cumulative votes that has been polled against them ?"
   ]
  },
  {
   "cell_type": "code",
   "execution_count": 22,
   "metadata": {},
   "outputs": [
    {
     "data": {
      "text/plain": [
       "age_Group\n",
       "Young           26045.933113\n",
       "Middle-Aged     65161.011555\n",
       "Old-Aged       118861.761055\n",
       "Name: total_votes_polled, dtype: float64"
      ]
     },
     "execution_count": 22,
     "metadata": {},
     "output_type": "execute_result"
    }
   ],
   "source": [
    "candid.groupby(by=['age_Group']).mean()['total_votes_polled']"
   ]
  },
  {
   "cell_type": "markdown",
   "metadata": {},
   "source": [
    "- Though unconclusive, on an average we can say that Old-Aged candidates gain higher number of votes, this can be due to the candidate being a well-seasoned politician and one who has contested in multiple elections before. On the other hand, young contestants gain less number of votes on an average when compared to middle and old aged contestants. This can be due to the reason that these candidates are new to politics and are yet to make a place for themselves amongst the leaders. Majority of the Independent candidates might also be young since they would not have affiliation towards any party and thus gain lesser number of votes.\n",
    "\n",
    "#### 7. This brings us to the next question, Are most of the Independent candidates younger ?"
   ]
  },
  {
   "cell_type": "code",
   "execution_count": 23,
   "metadata": {},
   "outputs": [
    {
     "data": {
      "text/html": [
       "<div>\n",
       "<style scoped>\n",
       "    .dataframe tbody tr th:only-of-type {\n",
       "        vertical-align: middle;\n",
       "    }\n",
       "\n",
       "    .dataframe tbody tr th {\n",
       "        vertical-align: top;\n",
       "    }\n",
       "\n",
       "    .dataframe thead th {\n",
       "        text-align: right;\n",
       "    }\n",
       "</style>\n",
       "<table border=\"1\" class=\"dataframe\">\n",
       "  <thead>\n",
       "    <tr style=\"text-align: right;\">\n",
       "      <th></th>\n",
       "      <th>st_code</th>\n",
       "      <th>state_name</th>\n",
       "      <th>month</th>\n",
       "      <th>year</th>\n",
       "      <th>pc_number</th>\n",
       "      <th>pc_name</th>\n",
       "      <th>pc_type</th>\n",
       "      <th>candidate_name</th>\n",
       "      <th>candidate_sex</th>\n",
       "      <th>candidate_category</th>\n",
       "      <th>candidate_age</th>\n",
       "      <th>party_abbreviation</th>\n",
       "      <th>total_votes_polled</th>\n",
       "      <th>position</th>\n",
       "      <th>age_Group</th>\n",
       "      <th>party_contested_count</th>\n",
       "      <th>Party_Category</th>\n",
       "    </tr>\n",
       "  </thead>\n",
       "  <tbody>\n",
       "    <tr>\n",
       "      <th>0</th>\n",
       "      <td>S01</td>\n",
       "      <td>Andhra Pradesh</td>\n",
       "      <td>5</td>\n",
       "      <td>2014</td>\n",
       "      <td>1</td>\n",
       "      <td>Adilabad</td>\n",
       "      <td>ST</td>\n",
       "      <td>GODAM NAGESH</td>\n",
       "      <td>M</td>\n",
       "      <td>ST</td>\n",
       "      <td>49.0</td>\n",
       "      <td>TRS</td>\n",
       "      <td>430847</td>\n",
       "      <td>1</td>\n",
       "      <td>Middle-Aged</td>\n",
       "      <td>17</td>\n",
       "      <td>Small Sized Party</td>\n",
       "    </tr>\n",
       "    <tr>\n",
       "      <th>1</th>\n",
       "      <td>S01</td>\n",
       "      <td>Andhra Pradesh</td>\n",
       "      <td>5</td>\n",
       "      <td>2014</td>\n",
       "      <td>1</td>\n",
       "      <td>Adilabad</td>\n",
       "      <td>ST</td>\n",
       "      <td>NARESH</td>\n",
       "      <td>M</td>\n",
       "      <td>ST</td>\n",
       "      <td>37.0</td>\n",
       "      <td>INC</td>\n",
       "      <td>259557</td>\n",
       "      <td>2</td>\n",
       "      <td>Middle-Aged</td>\n",
       "      <td>464</td>\n",
       "      <td>National Party</td>\n",
       "    </tr>\n",
       "    <tr>\n",
       "      <th>2</th>\n",
       "      <td>S01</td>\n",
       "      <td>Andhra Pradesh</td>\n",
       "      <td>5</td>\n",
       "      <td>2014</td>\n",
       "      <td>1</td>\n",
       "      <td>Adilabad</td>\n",
       "      <td>ST</td>\n",
       "      <td>RAMESH RATHOD</td>\n",
       "      <td>M</td>\n",
       "      <td>ST</td>\n",
       "      <td>48.0</td>\n",
       "      <td>TDP</td>\n",
       "      <td>184198</td>\n",
       "      <td>3</td>\n",
       "      <td>Middle-Aged</td>\n",
       "      <td>30</td>\n",
       "      <td>Small Sized Party</td>\n",
       "    </tr>\n",
       "    <tr>\n",
       "      <th>3</th>\n",
       "      <td>S01</td>\n",
       "      <td>Andhra Pradesh</td>\n",
       "      <td>5</td>\n",
       "      <td>2014</td>\n",
       "      <td>1</td>\n",
       "      <td>Adilabad</td>\n",
       "      <td>ST</td>\n",
       "      <td>RATHOD SADASHIV</td>\n",
       "      <td>M</td>\n",
       "      <td>ST</td>\n",
       "      <td>55.0</td>\n",
       "      <td>BSP</td>\n",
       "      <td>94420</td>\n",
       "      <td>4</td>\n",
       "      <td>Middle-Aged</td>\n",
       "      <td>503</td>\n",
       "      <td>National Party</td>\n",
       "    </tr>\n",
       "    <tr>\n",
       "      <th>4</th>\n",
       "      <td>S01</td>\n",
       "      <td>Andhra Pradesh</td>\n",
       "      <td>5</td>\n",
       "      <td>2014</td>\n",
       "      <td>1</td>\n",
       "      <td>Adilabad</td>\n",
       "      <td>ST</td>\n",
       "      <td>NETHAWATH RAMDAS</td>\n",
       "      <td>M</td>\n",
       "      <td>ST</td>\n",
       "      <td>44.0</td>\n",
       "      <td>IND</td>\n",
       "      <td>41032</td>\n",
       "      <td>5</td>\n",
       "      <td>Middle-Aged</td>\n",
       "      <td>3234</td>\n",
       "      <td>Independent Candidates</td>\n",
       "    </tr>\n",
       "  </tbody>\n",
       "</table>\n",
       "</div>"
      ],
      "text/plain": [
       "  st_code      state_name  month  year  pc_number    pc_name pc_type  \\\n",
       "0     S01  Andhra Pradesh      5  2014          1  Adilabad       ST   \n",
       "1     S01  Andhra Pradesh      5  2014          1  Adilabad       ST   \n",
       "2     S01  Andhra Pradesh      5  2014          1  Adilabad       ST   \n",
       "3     S01  Andhra Pradesh      5  2014          1  Adilabad       ST   \n",
       "4     S01  Andhra Pradesh      5  2014          1  Adilabad       ST   \n",
       "\n",
       "     candidate_name candidate_sex candidate_category  candidate_age  \\\n",
       "0      GODAM NAGESH             M                 ST           49.0   \n",
       "1            NARESH             M                 ST           37.0   \n",
       "2     RAMESH RATHOD             M                 ST           48.0   \n",
       "3   RATHOD SADASHIV             M                 ST           55.0   \n",
       "4  NETHAWATH RAMDAS             M                 ST           44.0   \n",
       "\n",
       "  party_abbreviation  total_votes_polled  position    age_Group  \\\n",
       "0                TRS              430847         1  Middle-Aged   \n",
       "1                INC              259557         2  Middle-Aged   \n",
       "2                TDP              184198         3  Middle-Aged   \n",
       "3                BSP               94420         4  Middle-Aged   \n",
       "4                IND               41032         5  Middle-Aged   \n",
       "\n",
       "   party_contested_count          Party_Category  \n",
       "0                     17       Small Sized Party  \n",
       "1                    464          National Party  \n",
       "2                     30       Small Sized Party  \n",
       "3                    503          National Party  \n",
       "4                   3234  Independent Candidates  "
      ]
     },
     "execution_count": 23,
     "metadata": {},
     "output_type": "execute_result"
    }
   ],
   "source": [
    "candid.head()"
   ]
  },
  {
   "cell_type": "code",
   "execution_count": 24,
   "metadata": {},
   "outputs": [
    {
     "name": "stdout",
     "output_type": "stream",
     "text": [
      "Middle-Aged    65.708101\n",
      "Young          23.469388\n",
      "Old-Aged       10.822511\n",
      "Name: age_Group, dtype: float64\n"
     ]
    },
    {
     "data": {
      "text/plain": [
       "<AxesSubplot:>"
      ]
     },
     "execution_count": 24,
     "metadata": {},
     "output_type": "execute_result"
    },
    {
     "data": {
      "image/png": "[encoded data removed]",
      "text/plain": [
       "<Figure size 432x288 with 1 Axes>"
      ]
     },
     "metadata": {
      "needs_background": "light"
     },
     "output_type": "display_data"
    }
   ],
   "source": [
    "x=candid[candid['party_abbreviation']=='IND']['age_Group'].value_counts()/len(candid[candid['party_abbreviation']=='IND'])*100\n",
    "print(x)\n",
    "x.plot(kind='bar')"
   ]
  },
  {
   "cell_type": "markdown",
   "metadata": {},
   "source": [
    "- Surprisingly not, Majority of the independent candidates are middle-aged at 66%, while young aged candidates make up only 23% of the total independent candidates. Only 10% of the Independent candidates are old-aged.\n",
    "\n",
    "#### 8. Let us now check the age group of candidates who have won the seat from which they had contested in i.e. the age group composition of the Lok Sabha post the election results"
   ]
  },
  {
   "cell_type": "code",
   "execution_count": 25,
   "metadata": {},
   "outputs": [
    {
     "name": "stdout",
     "output_type": "stream",
     "text": [
      "Middle-Aged    350\n",
      "Old-Aged       159\n",
      "Young           34\n",
      "Name: age_Group, dtype: int64\n"
     ]
    },
    {
     "data": {
      "text/plain": [
       "([<matplotlib.patches.Wedge at 0x27a95a57348>,\n",
       "  <matplotlib.patches.Wedge at 0x27a95a57d48>,\n",
       "  <matplotlib.patches.Wedge at 0x27a95a61688>],\n",
       " [Text(-0.48258947940846947, 0.9884874275195729, 'Middle-Aged'),\n",
       "  Text(0.28008761062503323, -1.0637438274200983, 'Young'),\n",
       "  Text(1.0787861064548843, -0.2149896195631577, 'Old-Aged')],\n",
       " [Text(-0.2632306251318924, 0.5391749604652215, '64.5%'),\n",
       "  Text(0.15277506034092722, -0.5802239058655081, '29.3%'),\n",
       "  Text(0.5884287853390278, -0.11726706521626781, '6.3%')])"
      ]
     },
     "execution_count": 25,
     "metadata": {},
     "output_type": "execute_result"
    },
    {
     "data": {
      "image/png": "[encoded data removed]",
      "text/plain": [
       "<Figure size 432x288 with 1 Axes>"
      ]
     },
     "metadata": {},
     "output_type": "display_data"
    }
   ],
   "source": [
    "x=candid[candid['position']==1]['age_Group'].value_counts()\n",
    "print(x)\n",
    "plt.pie(x,labels=candid.age_Group.unique(),autopct='%1.1f%%')"
   ]
  },
  {
   "cell_type": "markdown",
   "metadata": {},
   "source": [
    "- We can see that majority of the winners are middle aged candidates i.e. almost 65%, while young aged candidates make up 29% of the winners and old-aged candidates are only 6.3% of the total election winners.\n",
    "\n",
    "#### 9. What is the average difference of the total number of votes between the winner and the runner up in all the constituency"
   ]
  },
  {
   "cell_type": "code",
   "execution_count": 26,
   "metadata": {},
   "outputs": [
    {
     "data": {
      "text/plain": [
       "0      430847\n",
       "1      565496\n",
       "2      505358\n",
       "3      439307\n",
       "4      508661\n",
       "        ...  \n",
       "538    629860\n",
       "539    651395\n",
       "540    497980\n",
       "541     21665\n",
       "542    255826\n",
       "Name: total_votes_polled, Length: 543, dtype: int64"
      ]
     },
     "execution_count": 26,
     "metadata": {},
     "output_type": "execute_result"
    }
   ],
   "source": [
    "winner=candid[candid['position']==1]['total_votes_polled']\n",
    "winner.reset_index(drop=True, inplace=True)\n",
    "winner"
   ]
  },
  {
   "cell_type": "code",
   "execution_count": 27,
   "metadata": {},
   "outputs": [
    {
     "data": {
      "text/plain": [
       "0      259557\n",
       "1      274338\n",
       "2      300706\n",
       "3      272123\n",
       "4      364030\n",
       "        ...  \n",
       "538    523058\n",
       "539    382809\n",
       "540    390980\n",
       "541     20130\n",
       "542    194972\n",
       "Name: total_votes_polled, Length: 543, dtype: int64"
      ]
     },
     "execution_count": 27,
     "metadata": {},
     "output_type": "execute_result"
    }
   ],
   "source": [
    "runner_up=candid[candid['position']==2]['total_votes_polled']\n",
    "runner_up.reset_index(drop=True, inplace=True)\n",
    "runner_up"
   ]
  },
  {
   "cell_type": "code",
   "execution_count": 28,
   "metadata": {},
   "outputs": [
    {
     "data": {
      "text/plain": [
       "155586.2670349908"
      ]
     },
     "execution_count": 28,
     "metadata": {},
     "output_type": "execute_result"
    }
   ],
   "source": [
    "(winner-runner_up).mean()"
   ]
  },
  {
   "cell_type": "markdown",
   "metadata": {},
   "source": [
    "- On an average the winner from a constituency won the election by a margin of 1,55,586 votes\n",
    "- Let us check for the spread of the difference of total votes"
   ]
  },
  {
   "cell_type": "code",
   "execution_count": 29,
   "metadata": {},
   "outputs": [
    {
     "name": "stdout",
     "output_type": "stream",
     "text": [
      "count       543.000000\n",
      "mean     155586.267035\n",
      "std      111365.746593\n",
      "min          36.000000\n",
      "25%       69769.000000\n",
      "50%      138180.000000\n",
      "75%      222684.000000\n",
      "max      570128.000000\n",
      "Name: total_votes_polled, dtype: float64\n"
     ]
    },
    {
     "data": {
      "text/plain": [
       "<AxesSubplot:>"
      ]
     },
     "execution_count": 29,
     "metadata": {},
     "output_type": "execute_result"
    },
    {
     "data": {
      "image/png": "[encoded data removed]",
      "text/plain": [
       "<Figure size 432x288 with 1 Axes>"
      ]
     },
     "metadata": {
      "needs_background": "light"
     },
     "output_type": "display_data"
    }
   ],
   "source": [
    "print((winner-runner_up).describe())\n",
    "pd.concat([winner,runner_up],axis=1).plot()"
   ]
  },
  {
   "cell_type": "markdown",
   "metadata": {},
   "source": [
    "- We can see that the minimum difference between the winner and the runner up for the elections was only 36 votes where as the maximum is approximately 6 Lakh votes. This tells us that the spectrum of vitory margins has a large spread.\n",
    "\n",
    "#### 10. Let us now check for which of the constituencies has the youngest winner and which one has the oldest winner\n",
    "- Youngest winner first"
   ]
  },
  {
   "cell_type": "code",
   "execution_count": 30,
   "metadata": {},
   "outputs": [
    {
     "data": {
      "text/html": [
       "<div>\n",
       "<style scoped>\n",
       "    .dataframe tbody tr th:only-of-type {\n",
       "        vertical-align: middle;\n",
       "    }\n",
       "\n",
       "    .dataframe tbody tr th {\n",
       "        vertical-align: top;\n",
       "    }\n",
       "\n",
       "    .dataframe thead th {\n",
       "        text-align: right;\n",
       "    }\n",
       "</style>\n",
       "<table border=\"1\" class=\"dataframe\">\n",
       "  <thead>\n",
       "    <tr style=\"text-align: right;\">\n",
       "      <th></th>\n",
       "      <th>st_code</th>\n",
       "      <th>state_name</th>\n",
       "      <th>month</th>\n",
       "      <th>year</th>\n",
       "      <th>pc_number</th>\n",
       "      <th>pc_name</th>\n",
       "      <th>pc_type</th>\n",
       "      <th>candidate_name</th>\n",
       "      <th>candidate_sex</th>\n",
       "      <th>candidate_category</th>\n",
       "      <th>candidate_age</th>\n",
       "      <th>party_abbreviation</th>\n",
       "      <th>total_votes_polled</th>\n",
       "      <th>position</th>\n",
       "      <th>age_Group</th>\n",
       "      <th>party_contested_count</th>\n",
       "      <th>Party_Category</th>\n",
       "    </tr>\n",
       "  </thead>\n",
       "  <tbody>\n",
       "    <tr>\n",
       "      <th>1914</th>\n",
       "      <td>S07</td>\n",
       "      <td>Haryana</td>\n",
       "      <td>5</td>\n",
       "      <td>2014</td>\n",
       "      <td>4</td>\n",
       "      <td>Hisar</td>\n",
       "      <td>GEN</td>\n",
       "      <td>DUSHYANT CHAUTALA</td>\n",
       "      <td>M</td>\n",
       "      <td>GEN</td>\n",
       "      <td>26.0</td>\n",
       "      <td>INLD</td>\n",
       "      <td>494478</td>\n",
       "      <td>1</td>\n",
       "      <td>Young</td>\n",
       "      <td>10</td>\n",
       "      <td>Small Sized Party</td>\n",
       "    </tr>\n",
       "    <tr>\n",
       "      <th>3380</th>\n",
       "      <td>S13</td>\n",
       "      <td>Maharashtra</td>\n",
       "      <td>5</td>\n",
       "      <td>2014</td>\n",
       "      <td>1</td>\n",
       "      <td>Nandurbar</td>\n",
       "      <td>ST</td>\n",
       "      <td>DR.GAVIT HEENA VIJAYKUMAR</td>\n",
       "      <td>F</td>\n",
       "      <td>ST</td>\n",
       "      <td>26.0</td>\n",
       "      <td>BJP</td>\n",
       "      <td>579486</td>\n",
       "      <td>1</td>\n",
       "      <td>Young</td>\n",
       "      <td>428</td>\n",
       "      <td>National Party</td>\n",
       "    </tr>\n",
       "    <tr>\n",
       "      <th>3431</th>\n",
       "      <td>S13</td>\n",
       "      <td>Maharashtra</td>\n",
       "      <td>5</td>\n",
       "      <td>2014</td>\n",
       "      <td>4</td>\n",
       "      <td>Raver</td>\n",
       "      <td>GEN</td>\n",
       "      <td>KHADASE RAKSHA NIKHIL</td>\n",
       "      <td>F</td>\n",
       "      <td>GEN</td>\n",
       "      <td>26.0</td>\n",
       "      <td>BJP</td>\n",
       "      <td>605452</td>\n",
       "      <td>1</td>\n",
       "      <td>Young</td>\n",
       "      <td>428</td>\n",
       "      <td>National Party</td>\n",
       "    </tr>\n",
       "    <tr>\n",
       "      <th>5256</th>\n",
       "      <td>S22</td>\n",
       "      <td>Tamil Nadu</td>\n",
       "      <td>5</td>\n",
       "      <td>2014</td>\n",
       "      <td>3</td>\n",
       "      <td>Chennai South</td>\n",
       "      <td>GEN</td>\n",
       "      <td>DR. J. JAYAVARDHAN</td>\n",
       "      <td>M</td>\n",
       "      <td>GEN</td>\n",
       "      <td>26.0</td>\n",
       "      <td>ADMK</td>\n",
       "      <td>434540</td>\n",
       "      <td>1</td>\n",
       "      <td>Young</td>\n",
       "      <td>40</td>\n",
       "      <td>Small Sized Party</td>\n",
       "    </tr>\n",
       "    <tr>\n",
       "      <th>7723</th>\n",
       "      <td>S25</td>\n",
       "      <td>West Bengal</td>\n",
       "      <td>5</td>\n",
       "      <td>2014</td>\n",
       "      <td>21</td>\n",
       "      <td>Diamond harbour</td>\n",
       "      <td>GEN</td>\n",
       "      <td>ABHISHEK BANERJEE</td>\n",
       "      <td>M</td>\n",
       "      <td>GEN</td>\n",
       "      <td>26.0</td>\n",
       "      <td>AITC</td>\n",
       "      <td>508481</td>\n",
       "      <td>1</td>\n",
       "      <td>Young</td>\n",
       "      <td>131</td>\n",
       "      <td>Medium Sized Party</td>\n",
       "    </tr>\n",
       "  </tbody>\n",
       "</table>\n",
       "</div>"
      ],
      "text/plain": [
       "     st_code   state_name  month  year  pc_number          pc_name pc_type  \\\n",
       "1914     S07      Haryana      5  2014          4            Hisar     GEN   \n",
       "3380     S13  Maharashtra      5  2014          1       Nandurbar       ST   \n",
       "3431     S13  Maharashtra      5  2014          4            Raver     GEN   \n",
       "5256     S22   Tamil Nadu      5  2014          3    Chennai South     GEN   \n",
       "7723     S25  West Bengal      5  2014         21  Diamond harbour     GEN   \n",
       "\n",
       "                 candidate_name candidate_sex candidate_category  \\\n",
       "1914          DUSHYANT CHAUTALA             M                GEN   \n",
       "3380  DR.GAVIT HEENA VIJAYKUMAR             F                 ST   \n",
       "3431      KHADASE RAKSHA NIKHIL             F                GEN   \n",
       "5256         DR. J. JAYAVARDHAN             M                GEN   \n",
       "7723          ABHISHEK BANERJEE             M                GEN   \n",
       "\n",
       "      candidate_age party_abbreviation  total_votes_polled  position  \\\n",
       "1914           26.0               INLD              494478         1   \n",
       "3380           26.0                BJP              579486         1   \n",
       "3431           26.0                BJP              605452         1   \n",
       "5256           26.0               ADMK              434540         1   \n",
       "7723           26.0               AITC              508481         1   \n",
       "\n",
       "     age_Group  party_contested_count      Party_Category  \n",
       "1914     Young                     10   Small Sized Party  \n",
       "3380     Young                    428      National Party  \n",
       "3431     Young                    428      National Party  \n",
       "5256     Young                     40   Small Sized Party  \n",
       "7723     Young                    131  Medium Sized Party  "
      ]
     },
     "execution_count": 30,
     "metadata": {},
     "output_type": "execute_result"
    }
   ],
   "source": [
    "candid[(candid['position']==1)&(candid['candidate_age']==candid[candid['position']==1]['candidate_age'].min())]"
   ]
  },
  {
   "cell_type": "markdown",
   "metadata": {},
   "source": [
    "- We can see that there are 5 winners who are youngest i.e. aged 26 years; from all the winners from the elections. These young winners are spread across 4 states with 2 of them representing a National Party i.e. BJP.\n",
    "- Let us now check for the oldest winner"
   ]
  },
  {
   "cell_type": "code",
   "execution_count": 31,
   "metadata": {},
   "outputs": [
    {
     "data": {
      "text/html": [
       "<div>\n",
       "<style scoped>\n",
       "    .dataframe tbody tr th:only-of-type {\n",
       "        vertical-align: middle;\n",
       "    }\n",
       "\n",
       "    .dataframe tbody tr th {\n",
       "        vertical-align: top;\n",
       "    }\n",
       "\n",
       "    .dataframe thead th {\n",
       "        text-align: right;\n",
       "    }\n",
       "</style>\n",
       "<table border=\"1\" class=\"dataframe\">\n",
       "  <thead>\n",
       "    <tr style=\"text-align: right;\">\n",
       "      <th></th>\n",
       "      <th>st_code</th>\n",
       "      <th>state_name</th>\n",
       "      <th>month</th>\n",
       "      <th>year</th>\n",
       "      <th>pc_number</th>\n",
       "      <th>pc_name</th>\n",
       "      <th>pc_type</th>\n",
       "      <th>candidate_name</th>\n",
       "      <th>candidate_sex</th>\n",
       "      <th>candidate_category</th>\n",
       "      <th>candidate_age</th>\n",
       "      <th>party_abbreviation</th>\n",
       "      <th>total_votes_polled</th>\n",
       "      <th>position</th>\n",
       "      <th>age_Group</th>\n",
       "      <th>party_contested_count</th>\n",
       "      <th>Party_Category</th>\n",
       "    </tr>\n",
       "  </thead>\n",
       "  <tbody>\n",
       "    <tr>\n",
       "      <th>1559</th>\n",
       "      <td>S06</td>\n",
       "      <td>Gujarat</td>\n",
       "      <td>5</td>\n",
       "      <td>2014</td>\n",
       "      <td>6</td>\n",
       "      <td>Gandhinagar</td>\n",
       "      <td>GEN</td>\n",
       "      <td>L.K.ADVANI</td>\n",
       "      <td>M</td>\n",
       "      <td>GEN</td>\n",
       "      <td>86.0</td>\n",
       "      <td>BJP</td>\n",
       "      <td>773539</td>\n",
       "      <td>1</td>\n",
       "      <td>Old-Aged</td>\n",
       "      <td>428</td>\n",
       "      <td>National Party</td>\n",
       "    </tr>\n",
       "  </tbody>\n",
       "</table>\n",
       "</div>"
      ],
      "text/plain": [
       "     st_code state_name  month  year  pc_number      pc_name pc_type  \\\n",
       "1559     S06    Gujarat      5  2014          6  Gandhinagar     GEN   \n",
       "\n",
       "     candidate_name candidate_sex candidate_category  candidate_age  \\\n",
       "1559     L.K.ADVANI             M                GEN           86.0   \n",
       "\n",
       "     party_abbreviation  total_votes_polled  position age_Group  \\\n",
       "1559                BJP              773539         1  Old-Aged   \n",
       "\n",
       "      party_contested_count  Party_Category  \n",
       "1559                    428  National Party  "
      ]
     },
     "execution_count": 31,
     "metadata": {},
     "output_type": "execute_result"
    }
   ],
   "source": [
    "candid[(candid['position']==1)&(candid['candidate_age']==candid[candid['position']==1]['candidate_age'].max())]"
   ]
  },
  {
   "cell_type": "markdown",
   "metadata": {},
   "source": [
    "- The oldest winner is L.K.Advani aged 86 years, from Gandhinagar constituency belonging to the BJP.\n",
    "\n",
    "#### 11. Let us now deep dive into the two major parties in India i.e. the BJP and  Congress. Let us check the how they fare in terms of gender inclusion."
   ]
  },
  {
   "cell_type": "code",
   "execution_count": 32,
   "metadata": {},
   "outputs": [
    {
     "data": {
      "text/plain": [
       "party_abbreviation  candidate_sex\n",
       "BJP                 F                 38\n",
       "                    M                390\n",
       "INC                 F                 60\n",
       "                    M                404\n",
       "Name: year, dtype: int64"
      ]
     },
     "execution_count": 32,
     "metadata": {},
     "output_type": "execute_result"
    }
   ],
   "source": [
    "NP=candid[(candid['party_abbreviation']=='BJP') | (candid['party_abbreviation']=='INC')]\n",
    "NP.groupby(by=['party_abbreviation','candidate_sex']).count()['year']#year used just for neat representation"
   ]
  },
  {
   "cell_type": "markdown",
   "metadata": {},
   "source": [
    "- We can see that both the national parties had low number of female candidates, compared to the male candidates constest in the 2014 elections\n",
    "\n",
    "#### 12.  Let us check the how these two National parties fare in terms of candidate categories."
   ]
  },
  {
   "cell_type": "code",
   "execution_count": 33,
   "metadata": {},
   "outputs": [
    {
     "data": {
      "text/plain": [
       "party_abbreviation  candidate_category\n",
       "BJP                 GEN                   318\n",
       "                    SC                     64\n",
       "                    ST                     46\n",
       "INC                 GEN                   337\n",
       "                    SC                     78\n",
       "                    ST                     49\n",
       "Name: year, dtype: int64"
      ]
     },
     "execution_count": 33,
     "metadata": {},
     "output_type": "execute_result"
    }
   ],
   "source": [
    "NP.groupby(by=['party_abbreviation','candidate_category']).count()['year']#year used just for neat representation"
   ]
  },
  {
   "cell_type": "markdown",
   "metadata": {},
   "source": [
    "- The spread is approximately the same for both the parties, this might be due to the rule that cenrtain parliamentary constituencies are reserved for certain category candidates i.e. no other category candidate can contest is such constituency.\n",
    "\n",
    "#### 13. Let us now check for the party that won highest number of seats in each of the states along with the number of seats that the party has won."
   ]
  },
  {
   "cell_type": "code",
   "execution_count": 34,
   "metadata": {},
   "outputs": [
    {
     "data": {
      "text/html": [
       "<div>\n",
       "<style scoped>\n",
       "    .dataframe tbody tr th:only-of-type {\n",
       "        vertical-align: middle;\n",
       "    }\n",
       "\n",
       "    .dataframe tbody tr th {\n",
       "        vertical-align: top;\n",
       "    }\n",
       "\n",
       "    .dataframe thead th {\n",
       "        text-align: right;\n",
       "    }\n",
       "</style>\n",
       "<table border=\"1\" class=\"dataframe\">\n",
       "  <thead>\n",
       "    <tr style=\"text-align: right;\">\n",
       "      <th></th>\n",
       "      <th></th>\n",
       "      <th>st_code</th>\n",
       "    </tr>\n",
       "    <tr>\n",
       "      <th>state_name</th>\n",
       "      <th>party_abbreviation</th>\n",
       "      <th></th>\n",
       "    </tr>\n",
       "  </thead>\n",
       "  <tbody>\n",
       "    <tr>\n",
       "      <th>Uttar Pradesh</th>\n",
       "      <th>BJP</th>\n",
       "      <td>71</td>\n",
       "    </tr>\n",
       "    <tr>\n",
       "      <th>Tamil Nadu</th>\n",
       "      <th>ADMK</th>\n",
       "      <td>37</td>\n",
       "    </tr>\n",
       "    <tr>\n",
       "      <th>West Bengal</th>\n",
       "      <th>AITC</th>\n",
       "      <td>34</td>\n",
       "    </tr>\n",
       "    <tr>\n",
       "      <th>Madhya Pradesh</th>\n",
       "      <th>BJP</th>\n",
       "      <td>27</td>\n",
       "    </tr>\n",
       "    <tr>\n",
       "      <th>Gujarat</th>\n",
       "      <th>BJP</th>\n",
       "      <td>26</td>\n",
       "    </tr>\n",
       "    <tr>\n",
       "      <th>Rajasthan</th>\n",
       "      <th>BJP</th>\n",
       "      <td>25</td>\n",
       "    </tr>\n",
       "    <tr>\n",
       "      <th>Maharashtra</th>\n",
       "      <th>BJP</th>\n",
       "      <td>23</td>\n",
       "    </tr>\n",
       "    <tr>\n",
       "      <th>Bihar</th>\n",
       "      <th>BJP</th>\n",
       "      <td>22</td>\n",
       "    </tr>\n",
       "    <tr>\n",
       "      <th>Odisha</th>\n",
       "      <th>BJD</th>\n",
       "      <td>20</td>\n",
       "    </tr>\n",
       "    <tr>\n",
       "      <th>Karnataka</th>\n",
       "      <th>BJP</th>\n",
       "      <td>17</td>\n",
       "    </tr>\n",
       "    <tr>\n",
       "      <th>Andhra Pradesh</th>\n",
       "      <th>TDP</th>\n",
       "      <td>16</td>\n",
       "    </tr>\n",
       "    <tr>\n",
       "      <th>Jharkhand</th>\n",
       "      <th>BJP</th>\n",
       "      <td>12</td>\n",
       "    </tr>\n",
       "    <tr>\n",
       "      <th>Chattisgarh</th>\n",
       "      <th>BJP</th>\n",
       "      <td>10</td>\n",
       "    </tr>\n",
       "    <tr>\n",
       "      <th>Kerala</th>\n",
       "      <th>INC</th>\n",
       "      <td>8</td>\n",
       "    </tr>\n",
       "    <tr>\n",
       "      <th>NCT OF Delhi</th>\n",
       "      <th>BJP</th>\n",
       "      <td>7</td>\n",
       "    </tr>\n",
       "    <tr>\n",
       "      <th>Assam</th>\n",
       "      <th>BJP</th>\n",
       "      <td>7</td>\n",
       "    </tr>\n",
       "    <tr>\n",
       "      <th>Haryana</th>\n",
       "      <th>BJP</th>\n",
       "      <td>7</td>\n",
       "    </tr>\n",
       "    <tr>\n",
       "      <th>Uttarakhand</th>\n",
       "      <th>BJP</th>\n",
       "      <td>5</td>\n",
       "    </tr>\n",
       "    <tr>\n",
       "      <th>Himachal Pradesh</th>\n",
       "      <th>BJP</th>\n",
       "      <td>4</td>\n",
       "    </tr>\n",
       "    <tr>\n",
       "      <th>Punjab</th>\n",
       "      <th>SAD</th>\n",
       "      <td>4</td>\n",
       "    </tr>\n",
       "    <tr>\n",
       "      <th>Jammu &amp; Kashmir</th>\n",
       "      <th>JKPDP</th>\n",
       "      <td>3</td>\n",
       "    </tr>\n",
       "    <tr>\n",
       "      <th>Manipur</th>\n",
       "      <th>INC</th>\n",
       "      <td>2</td>\n",
       "    </tr>\n",
       "    <tr>\n",
       "      <th>Tripura</th>\n",
       "      <th>CPM</th>\n",
       "      <td>2</td>\n",
       "    </tr>\n",
       "    <tr>\n",
       "      <th>Goa</th>\n",
       "      <th>BJP</th>\n",
       "      <td>2</td>\n",
       "    </tr>\n",
       "    <tr>\n",
       "      <th>Arunachal Pradesh</th>\n",
       "      <th>INC</th>\n",
       "      <td>1</td>\n",
       "    </tr>\n",
       "    <tr>\n",
       "      <th>Sikkim</th>\n",
       "      <th>SDF</th>\n",
       "      <td>1</td>\n",
       "    </tr>\n",
       "    <tr>\n",
       "      <th>Meghalaya</th>\n",
       "      <th>NPEP</th>\n",
       "      <td>1</td>\n",
       "    </tr>\n",
       "    <tr>\n",
       "      <th>Puducherry</th>\n",
       "      <th>AINRC</th>\n",
       "      <td>1</td>\n",
       "    </tr>\n",
       "    <tr>\n",
       "      <th>Daman &amp; Diu</th>\n",
       "      <th>BJP</th>\n",
       "      <td>1</td>\n",
       "    </tr>\n",
       "    <tr>\n",
       "      <th>Dadra &amp; Nagar Haveli</th>\n",
       "      <th>BJP</th>\n",
       "      <td>1</td>\n",
       "    </tr>\n",
       "    <tr>\n",
       "      <th>Lakshadweep</th>\n",
       "      <th>NCP</th>\n",
       "      <td>1</td>\n",
       "    </tr>\n",
       "    <tr>\n",
       "      <th>Chandigarh</th>\n",
       "      <th>BJP</th>\n",
       "      <td>1</td>\n",
       "    </tr>\n",
       "    <tr>\n",
       "      <th>Mizoram</th>\n",
       "      <th>INC</th>\n",
       "      <td>1</td>\n",
       "    </tr>\n",
       "    <tr>\n",
       "      <th>Nagaland</th>\n",
       "      <th>NPF</th>\n",
       "      <td>1</td>\n",
       "    </tr>\n",
       "    <tr>\n",
       "      <th>Andaman &amp; Nicobar Islands</th>\n",
       "      <th>BJP</th>\n",
       "      <td>1</td>\n",
       "    </tr>\n",
       "  </tbody>\n",
       "</table>\n",
       "</div>"
      ],
      "text/plain": [
       "                                              st_code\n",
       "state_name                party_abbreviation         \n",
       "Uttar Pradesh             BJP                      71\n",
       "Tamil Nadu                ADMK                     37\n",
       "West Bengal               AITC                     34\n",
       "Madhya Pradesh            BJP                      27\n",
       "Gujarat                   BJP                      26\n",
       "Rajasthan                 BJP                      25\n",
       "Maharashtra               BJP                      23\n",
       "Bihar                     BJP                      22\n",
       "Odisha                    BJD                      20\n",
       "Karnataka                 BJP                      17\n",
       "Andhra Pradesh            TDP                      16\n",
       "Jharkhand                 BJP                      12\n",
       "Chattisgarh               BJP                      10\n",
       "Kerala                    INC                       8\n",
       "NCT OF Delhi              BJP                       7\n",
       "Assam                     BJP                       7\n",
       "Haryana                   BJP                       7\n",
       "Uttarakhand               BJP                       5\n",
       "Himachal Pradesh          BJP                       4\n",
       "Punjab                    SAD                       4\n",
       "Jammu & Kashmir           JKPDP                     3\n",
       "Manipur                   INC                       2\n",
       "Tripura                   CPM                       2\n",
       "Goa                       BJP                       2\n",
       "Arunachal Pradesh         INC                       1\n",
       "Sikkim                    SDF                       1\n",
       "Meghalaya                 NPEP                      1\n",
       "Puducherry                AINRC                     1\n",
       "Daman & Diu               BJP                       1\n",
       "Dadra & Nagar Haveli      BJP                       1\n",
       "Lakshadweep               NCP                       1\n",
       "Chandigarh                BJP                       1\n",
       "Mizoram                   INC                       1\n",
       "Nagaland                  NPF                       1\n",
       "Andaman & Nicobar Islands BJP                       1"
      ]
     },
     "execution_count": 34,
     "metadata": {},
     "output_type": "execute_result"
    }
   ],
   "source": [
    "win=candid[candid['position']==1]\n",
    "win.groupby(by=['state_name','party_abbreviation']).count().sort_values(by=['st_code'],ascending=False).groupby(level=0).head(1)['st_code'].to_frame()\n",
    "#st_code used just for neat representation"
   ]
  },
  {
   "cell_type": "markdown",
   "metadata": {},
   "source": [
    "- We can see that each of the states have the party with most number of seats mentioned alongside. The last few row items thaat have the count of seats as 1 are mostly from the Union Territories.\n",
    "\n",
    "#### 14. Let us now check the minimum margins of victory(difference between the winner and runnerup) for each of the states"
   ]
  },
  {
   "cell_type": "markdown",
   "metadata": {},
   "source": [
    "- We will be electing only the state_name, pc_name and the total_votes polled columns\n",
    "- We will have to create a new column by concatenating the state and pc_name since Aurangabad occurs in two states i.e. Bihar and Maharashtra. Doing an inner join without treating this would cause duplicate row items in the merged table."
   ]
  },
  {
   "cell_type": "code",
   "execution_count": 35,
   "metadata": {},
   "outputs": [
    {
     "data": {
      "text/html": [
       "<div>\n",
       "<style scoped>\n",
       "    .dataframe tbody tr th:only-of-type {\n",
       "        vertical-align: middle;\n",
       "    }\n",
       "\n",
       "    .dataframe tbody tr th {\n",
       "        vertical-align: top;\n",
       "    }\n",
       "\n",
       "    .dataframe thead th {\n",
       "        text-align: right;\n",
       "    }\n",
       "</style>\n",
       "<table border=\"1\" class=\"dataframe\">\n",
       "  <thead>\n",
       "    <tr style=\"text-align: right;\">\n",
       "      <th></th>\n",
       "      <th>state_name</th>\n",
       "      <th>pc_name</th>\n",
       "      <th>total_votes_polled</th>\n",
       "      <th>constituency_name</th>\n",
       "    </tr>\n",
       "  </thead>\n",
       "  <tbody>\n",
       "    <tr>\n",
       "      <th>0</th>\n",
       "      <td>Andhra Pradesh</td>\n",
       "      <td>Adilabad</td>\n",
       "      <td>430847</td>\n",
       "      <td>Andhra Pradesh_Adilabad</td>\n",
       "    </tr>\n",
       "    <tr>\n",
       "      <th>1</th>\n",
       "      <td>Andhra Pradesh</td>\n",
       "      <td>Peddapalle</td>\n",
       "      <td>565496</td>\n",
       "      <td>Andhra Pradesh_Peddapalle</td>\n",
       "    </tr>\n",
       "    <tr>\n",
       "      <th>2</th>\n",
       "      <td>Andhra Pradesh</td>\n",
       "      <td>Karimnagar</td>\n",
       "      <td>505358</td>\n",
       "      <td>Andhra Pradesh_Karimnagar</td>\n",
       "    </tr>\n",
       "    <tr>\n",
       "      <th>3</th>\n",
       "      <td>Andhra Pradesh</td>\n",
       "      <td>Nizamabad</td>\n",
       "      <td>439307</td>\n",
       "      <td>Andhra Pradesh_Nizamabad</td>\n",
       "    </tr>\n",
       "    <tr>\n",
       "      <th>4</th>\n",
       "      <td>Andhra Pradesh</td>\n",
       "      <td>Zahirabad</td>\n",
       "      <td>508661</td>\n",
       "      <td>Andhra Pradesh_Zahirabad</td>\n",
       "    </tr>\n",
       "    <tr>\n",
       "      <th>...</th>\n",
       "      <td>...</td>\n",
       "      <td>...</td>\n",
       "      <td>...</td>\n",
       "      <td>...</td>\n",
       "    </tr>\n",
       "    <tr>\n",
       "      <th>538</th>\n",
       "      <td>NCT OF Delhi</td>\n",
       "      <td>NORTH WEST DELHI</td>\n",
       "      <td>629860</td>\n",
       "      <td>NCT OF Delhi_NORTH WEST DELHI</td>\n",
       "    </tr>\n",
       "    <tr>\n",
       "      <th>539</th>\n",
       "      <td>NCT OF Delhi</td>\n",
       "      <td>WEST DELHI</td>\n",
       "      <td>651395</td>\n",
       "      <td>NCT OF Delhi_WEST DELHI</td>\n",
       "    </tr>\n",
       "    <tr>\n",
       "      <th>540</th>\n",
       "      <td>NCT OF Delhi</td>\n",
       "      <td>SOUTH DELHI</td>\n",
       "      <td>497980</td>\n",
       "      <td>NCT OF Delhi_SOUTH DELHI</td>\n",
       "    </tr>\n",
       "    <tr>\n",
       "      <th>541</th>\n",
       "      <td>Lakshadweep</td>\n",
       "      <td>Lakshadweep</td>\n",
       "      <td>21665</td>\n",
       "      <td>Lakshadweep_Lakshadweep</td>\n",
       "    </tr>\n",
       "    <tr>\n",
       "      <th>542</th>\n",
       "      <td>Puducherry</td>\n",
       "      <td>Puducherry</td>\n",
       "      <td>255826</td>\n",
       "      <td>Puducherry_Puducherry</td>\n",
       "    </tr>\n",
       "  </tbody>\n",
       "</table>\n",
       "<p>543 rows × 4 columns</p>\n",
       "</div>"
      ],
      "text/plain": [
       "         state_name                         pc_name  total_votes_polled  \\\n",
       "0    Andhra Pradesh                       Adilabad               430847   \n",
       "1    Andhra Pradesh                     Peddapalle               565496   \n",
       "2    Andhra Pradesh                     Karimnagar               505358   \n",
       "3    Andhra Pradesh                       Nizamabad              439307   \n",
       "4    Andhra Pradesh                       Zahirabad              508661   \n",
       "..              ...                             ...                 ...   \n",
       "538    NCT OF Delhi  NORTH WEST DELHI                            629860   \n",
       "539    NCT OF Delhi  WEST DELHI                                  651395   \n",
       "540    NCT OF Delhi  SOUTH DELHI                                 497980   \n",
       "541     Lakshadweep                     Lakshadweep               21665   \n",
       "542      Puducherry                      Puducherry              255826   \n",
       "\n",
       "                               constituency_name  \n",
       "0                       Andhra Pradesh_Adilabad   \n",
       "1                     Andhra Pradesh_Peddapalle   \n",
       "2                     Andhra Pradesh_Karimnagar   \n",
       "3                       Andhra Pradesh_Nizamabad  \n",
       "4                       Andhra Pradesh_Zahirabad  \n",
       "..                                           ...  \n",
       "538  NCT OF Delhi_NORTH WEST DELHI                \n",
       "539  NCT OF Delhi_WEST DELHI                      \n",
       "540  NCT OF Delhi_SOUTH DELHI                     \n",
       "541                      Lakshadweep_Lakshadweep  \n",
       "542                        Puducherry_Puducherry  \n",
       "\n",
       "[543 rows x 4 columns]"
      ]
     },
     "execution_count": 35,
     "metadata": {},
     "output_type": "execute_result"
    }
   ],
   "source": [
    "winner=candid[candid['position']==1][['state_name','pc_name','total_votes_polled']]\n",
    "winner.reset_index(drop=True, inplace=True)\n",
    "winner['constituency_name']=winner['state_name']+\"_\"+winner['pc_name']\n",
    "winner"
   ]
  },
  {
   "cell_type": "markdown",
   "metadata": {},
   "source": [
    "- For the runnersup, position=2"
   ]
  },
  {
   "cell_type": "code",
   "execution_count": 36,
   "metadata": {},
   "outputs": [
    {
     "data": {
      "text/html": [
       "<div>\n",
       "<style scoped>\n",
       "    .dataframe tbody tr th:only-of-type {\n",
       "        vertical-align: middle;\n",
       "    }\n",
       "\n",
       "    .dataframe tbody tr th {\n",
       "        vertical-align: top;\n",
       "    }\n",
       "\n",
       "    .dataframe thead th {\n",
       "        text-align: right;\n",
       "    }\n",
       "</style>\n",
       "<table border=\"1\" class=\"dataframe\">\n",
       "  <thead>\n",
       "    <tr style=\"text-align: right;\">\n",
       "      <th></th>\n",
       "      <th>state_name</th>\n",
       "      <th>pc_name</th>\n",
       "      <th>total_votes_polled</th>\n",
       "      <th>constituency_name</th>\n",
       "    </tr>\n",
       "  </thead>\n",
       "  <tbody>\n",
       "    <tr>\n",
       "      <th>0</th>\n",
       "      <td>Andhra Pradesh</td>\n",
       "      <td>Adilabad</td>\n",
       "      <td>259557</td>\n",
       "      <td>Andhra Pradesh_Adilabad</td>\n",
       "    </tr>\n",
       "    <tr>\n",
       "      <th>1</th>\n",
       "      <td>Andhra Pradesh</td>\n",
       "      <td>Peddapalle</td>\n",
       "      <td>274338</td>\n",
       "      <td>Andhra Pradesh_Peddapalle</td>\n",
       "    </tr>\n",
       "    <tr>\n",
       "      <th>2</th>\n",
       "      <td>Andhra Pradesh</td>\n",
       "      <td>Karimnagar</td>\n",
       "      <td>300706</td>\n",
       "      <td>Andhra Pradesh_Karimnagar</td>\n",
       "    </tr>\n",
       "    <tr>\n",
       "      <th>3</th>\n",
       "      <td>Andhra Pradesh</td>\n",
       "      <td>Nizamabad</td>\n",
       "      <td>272123</td>\n",
       "      <td>Andhra Pradesh_Nizamabad</td>\n",
       "    </tr>\n",
       "    <tr>\n",
       "      <th>4</th>\n",
       "      <td>Andhra Pradesh</td>\n",
       "      <td>Zahirabad</td>\n",
       "      <td>364030</td>\n",
       "      <td>Andhra Pradesh_Zahirabad</td>\n",
       "    </tr>\n",
       "    <tr>\n",
       "      <th>...</th>\n",
       "      <td>...</td>\n",
       "      <td>...</td>\n",
       "      <td>...</td>\n",
       "      <td>...</td>\n",
       "    </tr>\n",
       "    <tr>\n",
       "      <th>538</th>\n",
       "      <td>NCT OF Delhi</td>\n",
       "      <td>NORTH WEST DELHI</td>\n",
       "      <td>523058</td>\n",
       "      <td>NCT OF Delhi_NORTH WEST DELHI</td>\n",
       "    </tr>\n",
       "    <tr>\n",
       "      <th>539</th>\n",
       "      <td>NCT OF Delhi</td>\n",
       "      <td>WEST DELHI</td>\n",
       "      <td>382809</td>\n",
       "      <td>NCT OF Delhi_WEST DELHI</td>\n",
       "    </tr>\n",
       "    <tr>\n",
       "      <th>540</th>\n",
       "      <td>NCT OF Delhi</td>\n",
       "      <td>SOUTH DELHI</td>\n",
       "      <td>390980</td>\n",
       "      <td>NCT OF Delhi_SOUTH DELHI</td>\n",
       "    </tr>\n",
       "    <tr>\n",
       "      <th>541</th>\n",
       "      <td>Lakshadweep</td>\n",
       "      <td>Lakshadweep</td>\n",
       "      <td>20130</td>\n",
       "      <td>Lakshadweep_Lakshadweep</td>\n",
       "    </tr>\n",
       "    <tr>\n",
       "      <th>542</th>\n",
       "      <td>Puducherry</td>\n",
       "      <td>Puducherry</td>\n",
       "      <td>194972</td>\n",
       "      <td>Puducherry_Puducherry</td>\n",
       "    </tr>\n",
       "  </tbody>\n",
       "</table>\n",
       "<p>543 rows × 4 columns</p>\n",
       "</div>"
      ],
      "text/plain": [
       "         state_name                         pc_name  total_votes_polled  \\\n",
       "0    Andhra Pradesh                       Adilabad               259557   \n",
       "1    Andhra Pradesh                     Peddapalle               274338   \n",
       "2    Andhra Pradesh                     Karimnagar               300706   \n",
       "3    Andhra Pradesh                       Nizamabad              272123   \n",
       "4    Andhra Pradesh                       Zahirabad              364030   \n",
       "..              ...                             ...                 ...   \n",
       "538    NCT OF Delhi  NORTH WEST DELHI                            523058   \n",
       "539    NCT OF Delhi  WEST DELHI                                  382809   \n",
       "540    NCT OF Delhi  SOUTH DELHI                                 390980   \n",
       "541     Lakshadweep                     Lakshadweep               20130   \n",
       "542      Puducherry                      Puducherry              194972   \n",
       "\n",
       "                               constituency_name  \n",
       "0                       Andhra Pradesh_Adilabad   \n",
       "1                     Andhra Pradesh_Peddapalle   \n",
       "2                     Andhra Pradesh_Karimnagar   \n",
       "3                       Andhra Pradesh_Nizamabad  \n",
       "4                       Andhra Pradesh_Zahirabad  \n",
       "..                                           ...  \n",
       "538  NCT OF Delhi_NORTH WEST DELHI                \n",
       "539  NCT OF Delhi_WEST DELHI                      \n",
       "540  NCT OF Delhi_SOUTH DELHI                     \n",
       "541                      Lakshadweep_Lakshadweep  \n",
       "542                        Puducherry_Puducherry  \n",
       "\n",
       "[543 rows x 4 columns]"
      ]
     },
     "execution_count": 36,
     "metadata": {},
     "output_type": "execute_result"
    }
   ],
   "source": [
    "runner_up=candid[candid['position']==2][['state_name','pc_name','total_votes_polled']]\n",
    "runner_up.reset_index(drop=True, inplace=True)\n",
    "runner_up['constituency_name']=runner_up['state_name']+\"_\"+runner_up['pc_name']\n",
    "runner_up"
   ]
  },
  {
   "cell_type": "markdown",
   "metadata": {},
   "source": [
    "- An inner merge is performed on the constituency_name column to avoid any redundancy."
   ]
  },
  {
   "cell_type": "code",
   "execution_count": 37,
   "metadata": {},
   "outputs": [
    {
     "data": {
      "text/html": [
       "<div>\n",
       "<style scoped>\n",
       "    .dataframe tbody tr th:only-of-type {\n",
       "        vertical-align: middle;\n",
       "    }\n",
       "\n",
       "    .dataframe tbody tr th {\n",
       "        vertical-align: top;\n",
       "    }\n",
       "\n",
       "    .dataframe thead th {\n",
       "        text-align: right;\n",
       "    }\n",
       "</style>\n",
       "<table border=\"1\" class=\"dataframe\">\n",
       "  <thead>\n",
       "    <tr style=\"text-align: right;\">\n",
       "      <th></th>\n",
       "      <th>state_name_x</th>\n",
       "      <th>constituency_name</th>\n",
       "      <th>total_votes_polled_x</th>\n",
       "      <th>total_votes_polled_y</th>\n",
       "    </tr>\n",
       "  </thead>\n",
       "  <tbody>\n",
       "    <tr>\n",
       "      <th>0</th>\n",
       "      <td>Andhra Pradesh</td>\n",
       "      <td>Andhra Pradesh_Adilabad</td>\n",
       "      <td>430847</td>\n",
       "      <td>259557</td>\n",
       "    </tr>\n",
       "    <tr>\n",
       "      <th>1</th>\n",
       "      <td>Andhra Pradesh</td>\n",
       "      <td>Andhra Pradesh_Peddapalle</td>\n",
       "      <td>565496</td>\n",
       "      <td>274338</td>\n",
       "    </tr>\n",
       "    <tr>\n",
       "      <th>2</th>\n",
       "      <td>Andhra Pradesh</td>\n",
       "      <td>Andhra Pradesh_Karimnagar</td>\n",
       "      <td>505358</td>\n",
       "      <td>300706</td>\n",
       "    </tr>\n",
       "    <tr>\n",
       "      <th>3</th>\n",
       "      <td>Andhra Pradesh</td>\n",
       "      <td>Andhra Pradesh_Nizamabad</td>\n",
       "      <td>439307</td>\n",
       "      <td>272123</td>\n",
       "    </tr>\n",
       "    <tr>\n",
       "      <th>4</th>\n",
       "      <td>Andhra Pradesh</td>\n",
       "      <td>Andhra Pradesh_Zahirabad</td>\n",
       "      <td>508661</td>\n",
       "      <td>364030</td>\n",
       "    </tr>\n",
       "    <tr>\n",
       "      <th>...</th>\n",
       "      <td>...</td>\n",
       "      <td>...</td>\n",
       "      <td>...</td>\n",
       "      <td>...</td>\n",
       "    </tr>\n",
       "    <tr>\n",
       "      <th>538</th>\n",
       "      <td>NCT OF Delhi</td>\n",
       "      <td>NCT OF Delhi_NORTH WEST DELHI</td>\n",
       "      <td>629860</td>\n",
       "      <td>523058</td>\n",
       "    </tr>\n",
       "    <tr>\n",
       "      <th>539</th>\n",
       "      <td>NCT OF Delhi</td>\n",
       "      <td>NCT OF Delhi_WEST DELHI</td>\n",
       "      <td>651395</td>\n",
       "      <td>382809</td>\n",
       "    </tr>\n",
       "    <tr>\n",
       "      <th>540</th>\n",
       "      <td>NCT OF Delhi</td>\n",
       "      <td>NCT OF Delhi_SOUTH DELHI</td>\n",
       "      <td>497980</td>\n",
       "      <td>390980</td>\n",
       "    </tr>\n",
       "    <tr>\n",
       "      <th>541</th>\n",
       "      <td>Lakshadweep</td>\n",
       "      <td>Lakshadweep_Lakshadweep</td>\n",
       "      <td>21665</td>\n",
       "      <td>20130</td>\n",
       "    </tr>\n",
       "    <tr>\n",
       "      <th>542</th>\n",
       "      <td>Puducherry</td>\n",
       "      <td>Puducherry_Puducherry</td>\n",
       "      <td>255826</td>\n",
       "      <td>194972</td>\n",
       "    </tr>\n",
       "  </tbody>\n",
       "</table>\n",
       "<p>543 rows × 4 columns</p>\n",
       "</div>"
      ],
      "text/plain": [
       "       state_name_x                            constituency_name  \\\n",
       "0    Andhra Pradesh                     Andhra Pradesh_Adilabad    \n",
       "1    Andhra Pradesh                   Andhra Pradesh_Peddapalle    \n",
       "2    Andhra Pradesh                   Andhra Pradesh_Karimnagar    \n",
       "3    Andhra Pradesh                     Andhra Pradesh_Nizamabad   \n",
       "4    Andhra Pradesh                     Andhra Pradesh_Zahirabad   \n",
       "..              ...                                          ...   \n",
       "538    NCT OF Delhi  NCT OF Delhi_NORTH WEST DELHI                 \n",
       "539    NCT OF Delhi  NCT OF Delhi_WEST DELHI                       \n",
       "540    NCT OF Delhi  NCT OF Delhi_SOUTH DELHI                      \n",
       "541     Lakshadweep                      Lakshadweep_Lakshadweep   \n",
       "542      Puducherry                        Puducherry_Puducherry   \n",
       "\n",
       "     total_votes_polled_x  total_votes_polled_y  \n",
       "0                  430847                259557  \n",
       "1                  565496                274338  \n",
       "2                  505358                300706  \n",
       "3                  439307                272123  \n",
       "4                  508661                364030  \n",
       "..                    ...                   ...  \n",
       "538                629860                523058  \n",
       "539                651395                382809  \n",
       "540                497980                390980  \n",
       "541                 21665                 20130  \n",
       "542                255826                194972  \n",
       "\n",
       "[543 rows x 4 columns]"
      ]
     },
     "execution_count": 37,
     "metadata": {},
     "output_type": "execute_result"
    }
   ],
   "source": [
    "diff=winner.merge(runner_up,how='inner', on='constituency_name')[['state_name_x','constituency_name','total_votes_polled_x','total_votes_polled_y']]\n",
    "diff"
   ]
  },
  {
   "cell_type": "code",
   "execution_count": 38,
   "metadata": {},
   "outputs": [
    {
     "data": {
      "text/html": [
       "<div>\n",
       "<style scoped>\n",
       "    .dataframe tbody tr th:only-of-type {\n",
       "        vertical-align: middle;\n",
       "    }\n",
       "\n",
       "    .dataframe tbody tr th {\n",
       "        vertical-align: top;\n",
       "    }\n",
       "\n",
       "    .dataframe thead th {\n",
       "        text-align: right;\n",
       "    }\n",
       "</style>\n",
       "<table border=\"1\" class=\"dataframe\">\n",
       "  <thead>\n",
       "    <tr style=\"text-align: right;\">\n",
       "      <th></th>\n",
       "      <th>state_name_x</th>\n",
       "      <th>constituency_name</th>\n",
       "      <th>total_votes_polled_x</th>\n",
       "      <th>total_votes_polled_y</th>\n",
       "      <th>difference</th>\n",
       "    </tr>\n",
       "  </thead>\n",
       "  <tbody>\n",
       "    <tr>\n",
       "      <th>0</th>\n",
       "      <td>Andhra Pradesh</td>\n",
       "      <td>Andhra Pradesh_Adilabad</td>\n",
       "      <td>430847</td>\n",
       "      <td>259557</td>\n",
       "      <td>171290</td>\n",
       "    </tr>\n",
       "    <tr>\n",
       "      <th>1</th>\n",
       "      <td>Andhra Pradesh</td>\n",
       "      <td>Andhra Pradesh_Peddapalle</td>\n",
       "      <td>565496</td>\n",
       "      <td>274338</td>\n",
       "      <td>291158</td>\n",
       "    </tr>\n",
       "    <tr>\n",
       "      <th>2</th>\n",
       "      <td>Andhra Pradesh</td>\n",
       "      <td>Andhra Pradesh_Karimnagar</td>\n",
       "      <td>505358</td>\n",
       "      <td>300706</td>\n",
       "      <td>204652</td>\n",
       "    </tr>\n",
       "    <tr>\n",
       "      <th>3</th>\n",
       "      <td>Andhra Pradesh</td>\n",
       "      <td>Andhra Pradesh_Nizamabad</td>\n",
       "      <td>439307</td>\n",
       "      <td>272123</td>\n",
       "      <td>167184</td>\n",
       "    </tr>\n",
       "    <tr>\n",
       "      <th>4</th>\n",
       "      <td>Andhra Pradesh</td>\n",
       "      <td>Andhra Pradesh_Zahirabad</td>\n",
       "      <td>508661</td>\n",
       "      <td>364030</td>\n",
       "      <td>144631</td>\n",
       "    </tr>\n",
       "    <tr>\n",
       "      <th>...</th>\n",
       "      <td>...</td>\n",
       "      <td>...</td>\n",
       "      <td>...</td>\n",
       "      <td>...</td>\n",
       "      <td>...</td>\n",
       "    </tr>\n",
       "    <tr>\n",
       "      <th>538</th>\n",
       "      <td>NCT OF Delhi</td>\n",
       "      <td>NCT OF Delhi_NORTH WEST DELHI</td>\n",
       "      <td>629860</td>\n",
       "      <td>523058</td>\n",
       "      <td>106802</td>\n",
       "    </tr>\n",
       "    <tr>\n",
       "      <th>539</th>\n",
       "      <td>NCT OF Delhi</td>\n",
       "      <td>NCT OF Delhi_WEST DELHI</td>\n",
       "      <td>651395</td>\n",
       "      <td>382809</td>\n",
       "      <td>268586</td>\n",
       "    </tr>\n",
       "    <tr>\n",
       "      <th>540</th>\n",
       "      <td>NCT OF Delhi</td>\n",
       "      <td>NCT OF Delhi_SOUTH DELHI</td>\n",
       "      <td>497980</td>\n",
       "      <td>390980</td>\n",
       "      <td>107000</td>\n",
       "    </tr>\n",
       "    <tr>\n",
       "      <th>541</th>\n",
       "      <td>Lakshadweep</td>\n",
       "      <td>Lakshadweep_Lakshadweep</td>\n",
       "      <td>21665</td>\n",
       "      <td>20130</td>\n",
       "      <td>1535</td>\n",
       "    </tr>\n",
       "    <tr>\n",
       "      <th>542</th>\n",
       "      <td>Puducherry</td>\n",
       "      <td>Puducherry_Puducherry</td>\n",
       "      <td>255826</td>\n",
       "      <td>194972</td>\n",
       "      <td>60854</td>\n",
       "    </tr>\n",
       "  </tbody>\n",
       "</table>\n",
       "<p>543 rows × 5 columns</p>\n",
       "</div>"
      ],
      "text/plain": [
       "       state_name_x                            constituency_name  \\\n",
       "0    Andhra Pradesh                     Andhra Pradesh_Adilabad    \n",
       "1    Andhra Pradesh                   Andhra Pradesh_Peddapalle    \n",
       "2    Andhra Pradesh                   Andhra Pradesh_Karimnagar    \n",
       "3    Andhra Pradesh                     Andhra Pradesh_Nizamabad   \n",
       "4    Andhra Pradesh                     Andhra Pradesh_Zahirabad   \n",
       "..              ...                                          ...   \n",
       "538    NCT OF Delhi  NCT OF Delhi_NORTH WEST DELHI                 \n",
       "539    NCT OF Delhi  NCT OF Delhi_WEST DELHI                       \n",
       "540    NCT OF Delhi  NCT OF Delhi_SOUTH DELHI                      \n",
       "541     Lakshadweep                      Lakshadweep_Lakshadweep   \n",
       "542      Puducherry                        Puducherry_Puducherry   \n",
       "\n",
       "     total_votes_polled_x  total_votes_polled_y  difference  \n",
       "0                  430847                259557      171290  \n",
       "1                  565496                274338      291158  \n",
       "2                  505358                300706      204652  \n",
       "3                  439307                272123      167184  \n",
       "4                  508661                364030      144631  \n",
       "..                    ...                   ...         ...  \n",
       "538                629860                523058      106802  \n",
       "539                651395                382809      268586  \n",
       "540                497980                390980      107000  \n",
       "541                 21665                 20130        1535  \n",
       "542                255826                194972       60854  \n",
       "\n",
       "[543 rows x 5 columns]"
      ]
     },
     "execution_count": 38,
     "metadata": {},
     "output_type": "execute_result"
    }
   ],
   "source": [
    "diff['difference']=diff.total_votes_polled_x-diff.total_votes_polled_y\n",
    "diff"
   ]
  },
  {
   "cell_type": "code",
   "execution_count": 39,
   "metadata": {},
   "outputs": [
    {
     "data": {
      "text/plain": [
       "state_name_x\n",
       "Andaman & Nicobar Islands      7812\n",
       "Andhra Pradesh                 2590\n",
       "Arunachal Pradesh             12478\n",
       "Assam                         22884\n",
       "Bihar                          6872\n",
       "Chandigarh                    69642\n",
       "Chattisgarh                    1217\n",
       "Dadra & Nagar Haveli           6214\n",
       "Daman & Diu                    9222\n",
       "Goa                           32330\n",
       "Gujarat                       63426\n",
       "Haryana                       31847\n",
       "Himachal Pradesh              39856\n",
       "Jammu & Kashmir                  36\n",
       "Jharkhand                      6489\n",
       "Karnataka                      1499\n",
       "Kerala                         3306\n",
       "Lakshadweep                    1535\n",
       "Madhya Pradesh                 8688\n",
       "Maharashtra                    1632\n",
       "Manipur                       15637\n",
       "Meghalaya                     39716\n",
       "Mizoram                        6154\n",
       "NCT OF Delhi                 106802\n",
       "Nagaland                     400225\n",
       "Odisha                         2042\n",
       "Puducherry                    60854\n",
       "Punjab                        13582\n",
       "Rajasthan                     27216\n",
       "Sikkim                        41742\n",
       "Tamil Nadu                    42016\n",
       "Tripura                      484358\n",
       "Uttar Pradesh                  5174\n",
       "Uttarakhand                   95690\n",
       "West Bengal                    1634\n",
       "Name: difference, dtype: int64"
      ]
     },
     "execution_count": 39,
     "metadata": {},
     "output_type": "execute_result"
    }
   ],
   "source": [
    "diff.groupby(by=['state_name_x']).min()['difference']"
   ]
  },
  {
   "cell_type": "markdown",
   "metadata": {},
   "source": [
    "- Along with the least differences between the winner and runner up for each of the states, we can also notice the minimum difference of 36 votes was for the state of Jammu and Kashmir as seen in earlier interpretations.\n",
    "\n",
    "#### Finally, let us now check the maximum margins of victory(difference between the winner and runnerup) for each of the states"
   ]
  },
  {
   "cell_type": "code",
   "execution_count": 40,
   "metadata": {},
   "outputs": [
    {
     "data": {
      "text/plain": [
       "state_name_x\n",
       "Andaman & Nicobar Islands      7812\n",
       "Andhra Pradesh               397029\n",
       "Arunachal Pradesh             41738\n",
       "Assam                        355779\n",
       "Bihar                        286936\n",
       "Chandigarh                    69642\n",
       "Chattisgarh                  235911\n",
       "Dadra & Nagar Haveli           6214\n",
       "Daman & Diu                    9222\n",
       "Goa                          105599\n",
       "Gujarat                      570128\n",
       "Haryana                      466873\n",
       "Himachal Pradesh             170072\n",
       "Jammu & Kashmir              257280\n",
       "Jharkhand                    292954\n",
       "Karnataka                    363305\n",
       "Kerala                       194739\n",
       "Lakshadweep                    1535\n",
       "Madhya Pradesh               466901\n",
       "Maharashtra                  446582\n",
       "Manipur                       94674\n",
       "Meghalaya                     40379\n",
       "Mizoram                        6154\n",
       "NCT OF Delhi                 268586\n",
       "Nagaland                     400225\n",
       "Odisha                       320271\n",
       "Puducherry                    60854\n",
       "Punjab                       211721\n",
       "Rajasthan                    539345\n",
       "Sikkim                        41742\n",
       "Tamil Nadu                   323430\n",
       "Tripura                      503486\n",
       "Uttar Pradesh                567260\n",
       "Uttarakhand                  284717\n",
       "West Bengal                  356567\n",
       "Name: difference, dtype: int64"
      ]
     },
     "execution_count": 40,
     "metadata": {},
     "output_type": "execute_result"
    }
   ],
   "source": [
    "diff.groupby(by=['state_name_x']).max()['difference']"
   ]
  },
  {
   "cell_type": "markdown",
   "metadata": {},
   "source": [
    "- Along with the highest differences between the winner and runner up for each of the states, we can also notice the maximum difference of all states of 570128 votes was for the state of Gujarat as seen in earlier interpretations.\n",
    "\n",
    "##### The end"
   ]
  }
 ],
 "metadata": {
  "kernelspec": {
   "display_name": "Python 3",
   "language": "python",
   "name": "python3"
  },
  "language_info": {
   "codemirror_mode": {
    "name": "ipython",
    "version": 3
   },
   "file_extension": ".py",
   "mimetype": "text/x-python",
   "name": "python",
   "nbconvert_exporter": "python",
   "pygments_lexer": "ipython3",
   "version": "3.7.9"
  }
 },
 "nbformat": 4,
 "nbformat_minor": 4
}
